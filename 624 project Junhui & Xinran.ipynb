{
 "cells": [
  {
   "attachments": {},
   "cell_type": "markdown",
   "metadata": {},
   "source": [
    "# Three Chronic Diseases among the American Elderly\n",
    "\n",
    "#### Team Members: Xinran Wang & Junhui Qian\n",
    "#### Date: Dec 9 2022\n",
    "\n",
    "## Project Overview\n",
    "According to recent research[1],  by 2050, the population older than 85 will be tripled in the United States, and Cardiovascular, Osteoporosis and Alzheimer become the three common chronic diseases in older adults. Having these chronic diseases have effects on their cognitive functions and subjective well-being. This project will explore the trends and prevalence of the three common chronic diseases among the elderly in the United States, as well as how the prevalence rates of these diseases are associated with the elderly’ lifestyle and family support. The eight datasets are obtained from the University of Michigan Health and Retirement Study Core (HRS) from 2012 to 2020 and HRS Cross-Wave Tracker file 2020[2].\n",
    "\n",
    "## Objective\n",
    "\n",
    "1. Longitudinal analysis: How has the number of the eldely with Cardiovascular, Osteoporosis and Alzheimer changed in the United States, and are there any noticeable trends from 2012 to 2020? \n",
    "\n",
    "2. Cross-sectional analysis: What are the number of the elderly with Cardiovascular, Osteoporosis and Alzheimer in 2020, and are there any differences across age, gender and race? \n",
    "\n",
    "3. Are prevalence rates of these chronic diseases related to psychological conditions of the Americans over 50? \n",
    "\n",
    "4. Are there any correlations between the three chronic diseases and particular behaviors of lifestyle, like sleep and exercise?\n",
    "\n",
    "5. Which living conditions (living alone, living with partner, living with unrelated adult) are associated with the lowest risks of having the disease?\n",
    "\n",
    "* Prevalence rate = the proportion of cases of a disease in a specific population at a particular time point or over a specified period of time\n",
    "\n",
    "## Detailed Project Description\n",
    "\n",
    "This project will explore the trends and prevalence of the top three most common chronic diseases among the elderly in the United States, as well as how the prevalence rates of these diseases are associated with the elderly’ demographic variables such as age, gender, and the elderly's lifestyles including difficulties falling asleep, exercise frequency, and living conditions (whether living alone or living with other people). \n",
    "\n",
    "According to recent research[1],  by 2050, the population older than 85 will be tripled in the United States, and Cardiovascular, Osteoporosis and Alzheimer become the top three most common chronic diseases in older adults. Having these chronic diseases have effects on their cognitive functions and subjective well-being. It’s vital to explore factors influencing these diseases, such as exercise and sleep. We also believe whether the elderly live with their family may affect their well-being and risks of having these chronic diseases. Therefore, this project aims to explore the trends and prevalence of top three common chronic conditions among the elder in the United States, as well as a variety of factors that may affect the prevalence of these diseases. \n",
    "\n",
    "The datasets are obtained from the University of Michigan Health and Retirement Study (HRS) from 2010 to 2020, which is the largest and most comprehensive nationally representative multi-disciplinary panel study with a representative sample of approximately 20,000 Americans over age 50. The results shows that analysis of this project provide advice to further improve the health of the older population.\n",
    "\n",
    "## Stakeholders\n",
    "\n",
    "The primary stakeholders of our project are the **U.S. National Institute on Aging and the Social Security Administration**, who have funded the University of Michigan Health and Retirement Study (HRS) since 1990. The local, state, and federal American governments can also gain from the analysis of the data. Not only will they get a comprehensive understanding of the trends and prevalence of the three most common chronic diseases in older adults around America, but also can use results of this analysis to implement different initiatives across America to improve the health of their elderly citizens.\n",
    "\n",
    "The next stakeholders are the **academic researchers who are interested in studying the wellbeing and lifestyle of elderly people**, as well as research collaborations with the aim at understanding disease risk of aging around the world and harmonizing interstate and cross-national comparisons, for example, International Family of Studies and Harmonized Cognitive Assessment Protocol (HCAP) Network. The findings of our project will facilitate them to explore the associations between the elder’ physical and psychological states and their lifestyles and family support.\n",
    "\n",
    "Other stakeholders are **people who work in the elder care center and non-profit health organizations, families who have elderly people and health educators**.This analysis can be helpful when deciding how to implement strategies to improve the elder’s overall well-being. These health educators can help teach families best practices of lifestyles and family support to improve the health of their elder people.\n",
    "\n",
    "## Methodology\n",
    "\n",
    "### Data Overview\n",
    "\n",
    "We merged the eight datasets to two main datasets. To conduct the cross-sectional study, one dataset contains the demographic information, prevalence of Cardiovascular, Osteoporosis and Alzheimer data, difficulties falling asleep, exercise frequency, and psychological health data in HRS 2020. To conduct longitudinal study, the other one contains from prevalence of Cardiovascular, Osteoporosis and Alzheimer data 2010 to 2020 HRS.\n",
    "\n",
    "#### Dataset 1 for Cross-Sectional Study in 2020\n",
    "\n",
    "Let's have a glimpse of the final cross-sectional dataset:\n",
    "- Size: **15,732 rows** (16 variables) using *df.shape*\n",
    "- Type: using *df.dtypes*\n",
    "    - HHID and PN: Object; \n",
    "    - Year, Birth Year, sleep, vigorous/moderate/mild exercise: Float64 \n",
    "    - Other variables: Category\n",
    "- Missing values: using *df.isna().all()*\n",
    "    - depressed has 721 missing values, which take up 4.6%; \n",
    "    - lose_interest has 1,826 missing values, which take up 11.6%;\n",
    "    - osteoporosis has 1,946 missing values, which take up 12.4%;\n",
    "    - no missing values for other variables.\n",
    "- Deal with missing values: as all the variables with missing values in our dataset are binary, we cannot use imputation, so we **delete** them when deal with relevant statistics.\n",
    "\n",
    "The dashboard is shown here:\n",
    "\n",
    " ![alt text](dashboard.png \"Title\")\n",
    "\n",
    "#### Dataset 2 for Longitudinal Study from 2010 to 2020\n",
    "\n",
    "Before merging datasets in different years, by using *df.shape* codes, we know the dataset in **2020** contain 15,732 rows, meaning there are **15,732** respondents in the 2020 survey. The number of respodents in 2010, 2012, 2014, 2016, 2018 surveys are **22034, 20554, 18747, 20912, 17146**. Although the columns vary from less than one hundred to three hundred in each dataset, we only pay attention to several key variables: the number of cases of Cardiovascular, Osteoporosis and Alzheimer. **Except for 2010, where the data for Osteoporosis is not included**, all three variables are included in datasets. \n",
    "\n",
    "Then we look at the data types of the variables of these datasets using *df.dtypes*. Although all of them are float64, some variables should actually be categorical variables, such as “cardiovascular”, \"Osteoporosis\" and \"Alzheimerwhere\". For these three variables, **\"1\"** represents having been told that the respondent has the disease and others indicate not having the disease. Using *pd.value_count*, we can get the values frequency tables of respondents answering \"1\" to these three variables across years as below:\n",
    "\n",
    "| Year | cardiovascular | Osteoporosis | Alzheimerwhere |\n",
    "| --- | --- | --- | --- |\n",
    "| 2020 | 3690 | 731 | 215 |\n",
    "| 2018 | 4038 |\t492 | 251 |\n",
    "| 2016 | 4693 |\t831 | 311 |\n",
    "| 2014 | 4693 |\t774 | 377 |\n",
    "| 2012 | 4960 |\t2701 | 355 |\n",
    "| 2010 | 5081 |\tNA | 343 |\n",
    "\n",
    "By using *df.isna().all*, we can check the missing values in these three key variables across years. The results show that there are **no missing values** for “cardiovascular”, \"Osteoporosis\" and \"Alzheimerwhere\" across 2010-2020 datasets. What's important is that, starting from 2018, the **web non-responses are consistently coded as -8** in all variables. For example, although all respondents are asked the chronic disease questions, there are 5, 8 and 10 web non-response values in cardiovascular, osteoporosis, and Alzheimer variables in 2020 dataset. In 2018 dataset, there are 2, 0, 7 web non-response values in cardiovascular, osteoporosis, and Alzheimer variables. Besides -8 for web-nonresponse, 8 is used to code DK (Don't Know) and NA (Not Ascertained) and 9 is used to code RF (Refused) cases. we consider them as missing values and will handel them in data cleaning process.\n",
    "\n",
    "### Data Cleaning\n",
    "\n",
    "Most steps of data cleaning are applied to both dataset 1 and dataset 2, some exceptions are highlighted in **bold**.\n",
    "\n",
    "#### 1. Drop irrelevant columns\n",
    "\n",
    "Although the columns vary from less than one hundred to three hundred in each dataset, we only pay attention to several key variables. \n",
    "\n",
    "**For dataset 1**, the variables are selected from data of section :\n",
    "1. ID, HouseholdID, PersolID are selected for the purpose of matching cases across datasets of different sections\n",
    "2. **cardiovascular, osteoporosis, alzheimer** are selected because they are the key variables of interest.\n",
    "3. **BirthYear, GENDER, RACE** are selected for answering **Q2**.\n",
    "4. **living_status, depressed, lose_interest, sleep, vigorous_exercise, moderate_exercise, mild_exercise** are selected to answer **Q3, Q4**.\n",
    "\n",
    "**For dataset 2**, the same variables have different variable names across years, but basically we subtract the following variables: **cardiovascular, osteoporosis, alzheimer** are selected to answer **Q5**. As we mentioned above, 2010 data doesn't include osteoporosis as a variable so we created a osteoporosis column with NA value for 2010 data. Besides, to indicate which year's survey the data come from, we added \"year\" as a variable to the dataset.\n",
    "\n",
    "Therefore, we subset these variables and rename the columns from meaningless combination of alphabetic and number like Q32 to meaninful names like \"cardiovascular\". \n",
    "\n",
    "#### 2. Change data types\n",
    "\n",
    "In data overview, we checked the data types of the variables of these datasets using *df.dtypes*. Although all of them are float64, some variables should actually be categorical variables, such as “cardiovascular”, where “1” represents having been told that the respondent has cardiovascular disease while “5” represents no. Therefore, for these variables, we convert them to categorical variables before moving to next steps using *pd.Categorical*. For other variables such as age and sleep hours, we keep them as numeric. \n",
    "\n",
    "#### 3. Recode variables\n",
    "\n",
    "Then we recoded the variables in the two datasets. Before recoding, we use *.value_count()* to check the distributions of values.\n",
    "\n",
    "We recoded the three diseases variables at first. However, data from certain years has different coding scheme for cardiovascular, osteoporosis, alzheimer. So we checked the frequency table of these key variables using *pd.value_count* and compare to the codebook before recoding the value. Three diseases variables use the same coding rule, and we replace the name of disease with [DISEASE] in following coding rules.\n",
    "\n",
    "Originally, the general coding rules of these three [DISEASE] question are show as below:\n",
    "- -8.Web non-response\n",
    "- 1.YES\n",
    "- 3.DISPUTES PREVIOUS WAVE RECORD, BUT NOW HAS CONDITION (only appear in 2010, 2014, 2016)\n",
    "- 4.[NEVER HAD [DISEASE]]\n",
    "- 5.NO\n",
    "- 6.[HAD [DISEASE]] BEFORE, BUT DO NOT HAVE IT NOW AND AM NOT TAKING MEDICATION FOR IT]\n",
    "- 7.Not [DISEASE]; other cognitive impairment\n",
    "- 8.DK (Don't Know); NA (Not Ascertained)\n",
    "- 9.RF (Refused)\n",
    "- Blank.  INAP (Inapplicable); Partial Interview\n",
    "\n",
    "Some codes like 3, 7 are not used in certain year, but all datasets follow the same coding rule according to the codebooks. In order for convenience of analysis, we recode non-response, DK, RF as blank, recode [5. NO] as 0 to indicate no disease, and recode [3.DISPUTES PREVIOUS WAVE RECORD, BUT NOW HAS CONDITION], [4.NEVER HAD [DISEASE]], [5. NO] ,and [6.HAD [DISEASE] BEFORE, BUT DO NOT HAVE IT NOW AND AM NOT TAKING MEDICATION FOR IT] as 0 to indicate no disease.\n",
    "\n",
    "The final coding rules are shown as below:\n",
    "- 0.NO [DISEASE]\n",
    "- 1.HAVING [DISEASE]\n",
    "- Blank.  INAP (Inapplicable); Partial Interview; DK, RF,\n",
    "\n",
    "Then we double check the distribution of recoded dataset to make sure that there are no mistakes in recoding and convert these three variables to numeric variables for later calculation.\n",
    "\n",
    "For other variables, we recoded codes like \"-8\", indicating NA values to \"NA\", and recoded numeric values to strings because we won't use them in calculation. For example, for gender, we recoded \"1\" to \"Male\" and \"2\" to \"female\".\n",
    "\n",
    "### Data Analysis\n",
    "\n",
    "#### 1. Exploration: Correlation Matrix\n",
    "\n",
    "we calculated the correlation matrix and plot the heatmaps to explore the correlation between categorical variables. The heat maps are shown below. The first one shows the correlation between cardiovascular and other categorical variables. The second one is about correlations with osteoporosis, and the third one is about correlations with alzheimer.\n",
    "\n",
    " ![alt text](6.1.png \"Title\")\n",
    " ![alt text](6.2.png \"Title\")\n",
    " ![alt text](6.3.png \"Title\")\n",
    "\n",
    "As the legends of above heatmaps show, the darker color means larger correlation coefficient, indicating stronger correlation between two variables. In the first heatmaps, the cell shows correlation coefficient between cardiovascular and vigorous exercise is darker than surrounding cells, meaning that vigorous exercise has relatively strong correlation with having cardiovascular. In the second heatmap, vigorous exercise has relatively strong correlation with having osteoporosis. Different exercise intensity are correlated with each other, indicating there may be interaction effects among them. There are also very weak correlation between sleep disorders and having diseases. Other correlations are not significant. Therefore, we hypothesis that higher frequency of exercise are more difficulties falling asleep are correlated with lower risk of having diseases. We will focus on displaying correlations betweeen exercise and having diseases in later data analysis, especially the correlation between different exercise intensity and having diseases.\n",
    "\n",
    "#### 2. Calculate The Prevalence Rate of Having Diseases for each year\n",
    "\n",
    "Calculating prevalence rate of cardiovascular, osteoporosis, and alzheimer are central to answer our research questions. Our formular for prevalence rate calculation is shown as below:\n",
    "\n",
    "**Prevalence rate = the proportion of cases of a disease in a specific population over a specified period of time (1 year)**\n",
    "\n",
    "To ease the process of data analysis, we will create a dataframe which contains the prevalence rate of three diseases across years, where the columns are three variables, the rows are different years. First, to count the number of cases having diseases across years, we use *df.groupby(['year']).column.sum()* to get the count of specific disease across years. We will get three objects because we have three variables of diseases. Then we converted the three series to three lists using *df.tolist()*. Second, we create a list of count of all cases per year and a list of year to prepare for looping. Third, we create a new dataframe to store the results of calculation. Finally, we loop through the lists to calculate the probability of having disease and fill in the dataframe. To make the result more straightforwad, we visualized the trends of prevalence rates across years using Tableau. We will be discussed in Visulization section in details as an answer to Q1.\n",
    "\n",
    "#### 3. Group datasets by variables like demographic variables, psychosocial conditions, and lifestyles and compare their prevalence rates\n",
    "\n",
    "After calculation of prevalence rates, we group datasets by variables like demographic variables, psychosocial conditions, and lifestyles and visualize their prevalence rates comparison using Tableau. The results provide answers to Q2 to Q5 and will be presented and discussed in Visulizations section.\n",
    "\n",
    "#### 4. Logistic Regression Model\n",
    "\n",
    "To make our results more convincing, we built three logistic models using Having Cardiovascular, Having Osteoporosis, and Having Alzheimer as the binary outcome variables, and other variables of interests as predictors. We improved the models by removing non-significan variables, comparing AIC, BIC, etc. The photos below are the outputs of the three final models. \n",
    "\n",
    "![alt text](model1.png \"Title\")\n",
    "![alt text](model2.png \"Title\")\n",
    "![alt text](model3.png \"Title\")\n",
    "\n",
    "Generally speaking, the models outputs indicate that for Cardiovascular, **being male** are significantly correlated with higher chance of having Cardiovascular; not losing interests is correlated with lower chance of having Cardiovascular. For Osteoporosis, on the opposite, **being male** is significantly correlated with lower chance of having Osteoporosis. For Alzheimer, **living with partner** is significantly correlated with lower rates of having Alzheimer\n",
    "\n",
    "\n",
    "## Codes\n",
    "\n",
    "## Visualisations\n",
    "\n",
    "#### 1. Visual 1 \n",
    "\n",
    " It is a line chart and shows trends of prevalence rates from 2012 to 2020. \n",
    "\n",
    " The oragnge line shows the trend for Cardiovascular, whose prevalence rates stay extremely high, compared with which of Osteoporosis and Alzheimer; The red line represent prevalence rates of Osteoporosis and it decreases sharply during 2012 to 2014, then stay stable; The blue line is for  Alzheimer which stay relatively low from 2012 to 2020.\n",
    "\n",
    " ![alt text](1.png \"Title\")\n",
    "\n",
    "#### 2. Visual 2\n",
    "\n",
    " It is a bar chart and shows differences of prevalence rates among three diseases in 2020. \n",
    "\n",
    " The yellow bar shows the prevalence rate for Cardiovascular, which is 0.24 and much longer than others; The green one is the shortest, which represents the prevalence rate of Alzheimer and is 0.01; The purple bar is for Osteoporosis whose value is 0.05.\n",
    "\n",
    " ![alt text](2.png \"Title\")\n",
    "\n",
    "#### 3. Visual 3\n",
    " It shows the number of the elderly with diseases across ages and generations. It is a combination of three line charts, for three diseases respectively. The x-axis is birth year from 1915 to 1995 and divided into 5 generations, the Greatest Generation, the Slient Generation, Baby Boomer Generation, Generation X and Millennials. We also code the width of line with the number of diseases' cases. We can conclude the Slient Generation, who born from 1925 to 1945, the prevalence rates of the Silent Generation are extremely high compared with other generations for all the three diseases.\n",
    "\n",
    " ![alt text](3.png \"Title\")\n",
    "\n",
    "#### 4. Visual 4\n",
    " There are two bar charts and show differences of prevalence rates across gender and race. The y-axis shows prevalence rates for three diseases. The x-axis is female and male for the gender chart and AA, White, Other for the race chart. For race and gender, we have not found any evident pattern for the prevalence rates of Alzheimer, Cardiovascular and Osteoporosis among the Americans over 50 in 2020.\n",
    "\n",
    " ![alt text](4.png \"Title\")\n",
    "\n",
    "#### 5. Visual 5\n",
    " There are two bar charts and show correlations between  prevalence rates and  psychological conditions. The x-axis shows prevalence rates for three diseases. The x-axis is whether feel depressed or whether lose interests seperately for the two charts. We can see that prevalence rates of three diseases are correlated with the elderly’s  psychological conditions, as the elderly who did not feel depressed or lose interest in the past year tend to have lower prevalence rates  of all the three diseases.\n",
    "\n",
    " ![alt text](5.png \"Title\")\n",
    " \n",
    "#### 6. Visual 6\n",
    " It is a combination of three heatmaps and shows correlations between these chronic diseases and particular behaviors of lifestyle, like sleep and exercise. The darker color indicate stronger correlation compared with the light one. From the heatmap, vigorous exercise has relatively stronger correlation with three diseases than other variables.\n",
    "\n",
    " ![alt text](6.1.png \"Title\")\n",
    " ![alt text](6.2.png \"Title\")\n",
    " ![alt text](6.3.png \"Title\")\n",
    "\n",
    "#### 7. Visual 7\n",
    " It is a combination of three line charts and shows correlations between these chronic diseases and sleepness. The x-axis is the frequency of sleep problems, which is divided into three categories, \"most of the time\", \"sometimes\" and \"rarely or never\". From the line plot, better sleep is associated with lower chance of having diseases in general.\n",
    "\n",
    " ![alt text](7.png \"Title\")\n",
    "\n",
    "#### 8. Visual 8\n",
    " It is also a combination of three line charts and shows correlations between these chronic diseases and frequency and intensity of exercise in a aggregated way. \n",
    "\n",
    " We use y-axis to show the intensity of exercise, which are mild exercise, moderate exercise and vigorous exercise. Then we continue to divide each one into four levels of frequency, which are \"HARDLY EVER OR NEVER\", \"ONE TO THREE TIMES A MONTH\", \"ONCE A WEEK\" and \"MORE THAN ONCE A WEEK\". The x-axis is the \n",
    "\n",
    " ![alt text](8.png \"Title\")\n",
    "\n",
    "\n",
    "#### 9. Visual 9\n",
    "It is also a combination of three line charts and shows correlations between these chronic diseases and frequency and intensity of exercise in a aggregated way, but in a disaggregated way. From the line charts, doing exercise more frequently is associated with lower chance of having Osteoporosis and Cardiovascular.\n",
    "\n",
    "![alt text](9.png \"Title\")\n",
    "\n",
    "#### 10. Visual 10\n",
    "It is a bar chart and shows correlations between living conditions and gaving diseases. The x-axis show whether the elderly live with partner or relatives, live with unrelated adult or live alone. From the bar plot, living with partner or relatives is always associated with the lowest rates of having diseases while living alone is always associated with the highest rates of having diseases.\n",
    "\n",
    "![alt text](10.png \"Title\")\n",
    "\n",
    "## Conclusions\n",
    "\n",
    "1. We conduct longitudinal analysis from 2012 to 2020 and find there these noticeable trends. The prevalence rates of Osteoporosis dropped in 2014 and remained stable in 2014-2020. The trends of having Cardiovascular and Alzheimer remains stable from 2012 to 2020.\n",
    "\n",
    "2. We also conduct cross-sectional analysis for 2020 and have these findings. The prevalence rate of Cardiovascular is extremely high, compared with which of Osteoporosis and Alzheimer among the Americans over 50 in 2020. The prevalence rates of the Silent Generation are extremely high compared with other generations for all the three diseases, whose causes can be further studied by the academic researchers who are interested in studying the wellbeing and lifestyle of elderly people.\n",
    "\n",
    "3. The prevalence rates  of  Cardiovascular,  Osteoporosis and Alzheimer are correlated with the elderly’s  psychological conditions.\n",
    "\n",
    "4. Not having sleep problems is associated with lower chance of having three diseases. For Osteoporosis and Cardiovascular, doing more frequent exercise is associated with lower chance of having diseases. Elder care center and families with elderly people should pay close attention to the elderly's sleepness. Also, non-profit health organizations can initiate collaborations with the aim at improving the codition of sleepness for the elderly.\n",
    "\n",
    "5. Living with partner or relatives is associated with lowest chance of having three diseases. Living alone is associated with the highest chance of having three diseases. Families with elderly people should care more about companying the elderly.\n",
    "\n",
    "## Limitations and Further Studies\n",
    "\n",
    "1. We can further explore the correlations between prevalence rates of diseases and more demographic variables such as residence areas, financial situation, etc.\n",
    "\n",
    "2. In further studies, we can use the model to predict prevalence rates of next year’s survey. \n",
    "\n",
    "3. The conclusions may be less representative for African American groups, as the the rates of African American, White and Other race is 2:7:1.\n",
    "\n"
   ]
  },
  {
   "attachments": {},
   "cell_type": "markdown",
   "metadata": {},
   "source": [
    "\n",
    "## Appendix"
   ]
  },
  {
   "attachments": {},
   "cell_type": "markdown",
   "metadata": {},
   "source": [
    "### References\n",
    "\n",
    "Jaul E, Barron J. Age-Related Diseases and Clinical and Public Health Implications for the 85 Years Old and Over Population. Front Public Health. 2017 Dec 11;5:335. doi: 10.3389/fpubh.2017.00335. PMID: 29312916; PMCID: PMC5732407."
   ]
  },
  {
   "attachments": {},
   "cell_type": "markdown",
   "metadata": {},
   "source": [
    "### Codes"
   ]
  },
  {
   "attachments": {},
   "cell_type": "markdown",
   "metadata": {},
   "source": [
    "#### Load datasets and get an overview for Dataset 1: Cross-sectional Dataset"
   ]
  },
  {
   "cell_type": "code",
   "execution_count": 1,
   "metadata": {},
   "outputs": [],
   "source": [
    "import pandas as pd"
   ]
  },
  {
   "cell_type": "code",
   "execution_count": 2,
   "metadata": {},
   "outputs": [],
   "source": [
    "#load 2020 HRS Core data\n",
    "#source:https://hrsdata.isr.umich.edu/data-products/2020-hrs-core\n",
    "#Section B: Demographics (Respondent)\n",
    "B2022 = pd.read_sas(\"./h20b_r.sas7bdat\")\n",
    "#Section C: Physical Health (Respondent)\n",
    "C2022 = pd.read_sas(\"./h20c_r.sas7bdat\")\n",
    "\n",
    "#load Cross-Wave Tracker File, which contain complete demographic information\n",
    "#source:https://hrsdata.isr.umich.edu/data-products/cross-wave-tracker-file\n",
    "tracker2020 = pd.read_sas(\"./trk2020tr_r.sas7bdat\")"
   ]
  },
  {
   "cell_type": "code",
   "execution_count": 3,
   "metadata": {},
   "outputs": [
    {
     "data": {
      "text/plain": [
       "(43559, 552)"
      ]
     },
     "execution_count": 3,
     "metadata": {},
     "output_type": "execute_result"
    }
   ],
   "source": [
    "#check size of Cross-Wave Tracker File\n",
    "tracker2020.shape"
   ]
  },
  {
   "cell_type": "code",
   "execution_count": 4,
   "metadata": {},
   "outputs": [
    {
     "data": {
      "text/plain": [
       "HHID            object\n",
       "PN              object\n",
       "BIRTHMO        float64\n",
       "BIRTHYR        float64\n",
       "DEGREE         float64\n",
       "                ...   \n",
       "RRESCODE       float64\n",
       "RSUBHH          object\n",
       "RSUBHHIW       float64\n",
       "RWEBCONTROL    float64\n",
       "VERSION        float64\n",
       "Length: 552, dtype: object"
      ]
     },
     "execution_count": 4,
     "metadata": {},
     "output_type": "execute_result"
    }
   ],
   "source": [
    "#check type of variables in Cross-Wave Tracker File\n",
    "tracker2020.dtypes"
   ]
  },
  {
   "cell_type": "code",
   "execution_count": 5,
   "metadata": {},
   "outputs": [
    {
     "data": {
      "text/html": [
       "<div>\n",
       "<style scoped>\n",
       "    .dataframe tbody tr th:only-of-type {\n",
       "        vertical-align: middle;\n",
       "    }\n",
       "\n",
       "    .dataframe tbody tr th {\n",
       "        vertical-align: top;\n",
       "    }\n",
       "\n",
       "    .dataframe thead th {\n",
       "        text-align: right;\n",
       "    }\n",
       "</style>\n",
       "<table border=\"1\" class=\"dataframe\">\n",
       "  <thead>\n",
       "    <tr style=\"text-align: right;\">\n",
       "      <th></th>\n",
       "      <th>HHID</th>\n",
       "      <th>PN</th>\n",
       "      <th>BIRTHMO</th>\n",
       "      <th>BIRTHYR</th>\n",
       "      <th>DEGREE</th>\n",
       "      <th>EFTFASSIGN</th>\n",
       "      <th>EXDEATHMO</th>\n",
       "      <th>EXDEATHYR</th>\n",
       "      <th>EXDODSOURCE</th>\n",
       "      <th>FIRSTIW</th>\n",
       "      <th>...</th>\n",
       "      <th>RMARST</th>\n",
       "      <th>RNEWSP</th>\n",
       "      <th>RNURSHM</th>\n",
       "      <th>RPPN</th>\n",
       "      <th>RPROXY</th>\n",
       "      <th>RRESCODE</th>\n",
       "      <th>RSUBHH</th>\n",
       "      <th>RSUBHHIW</th>\n",
       "      <th>RWEBCONTROL</th>\n",
       "      <th>VERSION</th>\n",
       "    </tr>\n",
       "  </thead>\n",
       "  <tbody>\n",
       "    <tr>\n",
       "      <th>0</th>\n",
       "      <td>b'000001'</td>\n",
       "      <td>b'010'</td>\n",
       "      <td>2.0</td>\n",
       "      <td>1938.0</td>\n",
       "      <td>4.0</td>\n",
       "      <td>9.0</td>\n",
       "      <td>4.0</td>\n",
       "      <td>1995.0</td>\n",
       "      <td>1.0</td>\n",
       "      <td>1992.0</td>\n",
       "      <td>...</td>\n",
       "      <td>NaN</td>\n",
       "      <td>NaN</td>\n",
       "      <td>NaN</td>\n",
       "      <td>b'000'</td>\n",
       "      <td>NaN</td>\n",
       "      <td>NaN</td>\n",
       "      <td>b'9'</td>\n",
       "      <td>NaN</td>\n",
       "      <td>NaN</td>\n",
       "      <td>1.0</td>\n",
       "    </tr>\n",
       "    <tr>\n",
       "      <th>1</th>\n",
       "      <td>b'000002'</td>\n",
       "      <td>b'010'</td>\n",
       "      <td>10.0</td>\n",
       "      <td>1934.0</td>\n",
       "      <td>0.0</td>\n",
       "      <td>9.0</td>\n",
       "      <td>11.0</td>\n",
       "      <td>2001.0</td>\n",
       "      <td>1.0</td>\n",
       "      <td>1992.0</td>\n",
       "      <td>...</td>\n",
       "      <td>NaN</td>\n",
       "      <td>NaN</td>\n",
       "      <td>NaN</td>\n",
       "      <td>b'000'</td>\n",
       "      <td>NaN</td>\n",
       "      <td>NaN</td>\n",
       "      <td>b'9'</td>\n",
       "      <td>NaN</td>\n",
       "      <td>NaN</td>\n",
       "      <td>1.0</td>\n",
       "    </tr>\n",
       "    <tr>\n",
       "      <th>2</th>\n",
       "      <td>b'000003'</td>\n",
       "      <td>b'010'</td>\n",
       "      <td>1.0</td>\n",
       "      <td>1936.0</td>\n",
       "      <td>2.0</td>\n",
       "      <td>1.0</td>\n",
       "      <td>8.0</td>\n",
       "      <td>2013.0</td>\n",
       "      <td>1.0</td>\n",
       "      <td>1992.0</td>\n",
       "      <td>...</td>\n",
       "      <td>NaN</td>\n",
       "      <td>NaN</td>\n",
       "      <td>NaN</td>\n",
       "      <td>b'000'</td>\n",
       "      <td>NaN</td>\n",
       "      <td>NaN</td>\n",
       "      <td>b'9'</td>\n",
       "      <td>NaN</td>\n",
       "      <td>NaN</td>\n",
       "      <td>1.0</td>\n",
       "    </tr>\n",
       "    <tr>\n",
       "      <th>3</th>\n",
       "      <td>b'000003'</td>\n",
       "      <td>b'020'</td>\n",
       "      <td>9.0</td>\n",
       "      <td>1938.0</td>\n",
       "      <td>4.0</td>\n",
       "      <td>1.0</td>\n",
       "      <td>10.0</td>\n",
       "      <td>2015.0</td>\n",
       "      <td>1.0</td>\n",
       "      <td>1992.0</td>\n",
       "      <td>...</td>\n",
       "      <td>NaN</td>\n",
       "      <td>NaN</td>\n",
       "      <td>NaN</td>\n",
       "      <td>b'000'</td>\n",
       "      <td>NaN</td>\n",
       "      <td>NaN</td>\n",
       "      <td>b'9'</td>\n",
       "      <td>NaN</td>\n",
       "      <td>NaN</td>\n",
       "      <td>1.0</td>\n",
       "    </tr>\n",
       "    <tr>\n",
       "      <th>4</th>\n",
       "      <td>b'010001'</td>\n",
       "      <td>b'010'</td>\n",
       "      <td>6.0</td>\n",
       "      <td>1939.0</td>\n",
       "      <td>2.0</td>\n",
       "      <td>2.0</td>\n",
       "      <td>NaN</td>\n",
       "      <td>NaN</td>\n",
       "      <td>NaN</td>\n",
       "      <td>1992.0</td>\n",
       "      <td>...</td>\n",
       "      <td>NaN</td>\n",
       "      <td>5.0</td>\n",
       "      <td>9.0</td>\n",
       "      <td>b'000'</td>\n",
       "      <td>9.0</td>\n",
       "      <td>6002.0</td>\n",
       "      <td>b'0'</td>\n",
       "      <td>5.0</td>\n",
       "      <td>5.0</td>\n",
       "      <td>1.0</td>\n",
       "    </tr>\n",
       "  </tbody>\n",
       "</table>\n",
       "<p>5 rows × 552 columns</p>\n",
       "</div>"
      ],
      "text/plain": [
       "        HHID      PN  BIRTHMO  BIRTHYR  DEGREE  EFTFASSIGN  EXDEATHMO  \\\n",
       "0  b'000001'  b'010'      2.0   1938.0     4.0         9.0        4.0   \n",
       "1  b'000002'  b'010'     10.0   1934.0     0.0         9.0       11.0   \n",
       "2  b'000003'  b'010'      1.0   1936.0     2.0         1.0        8.0   \n",
       "3  b'000003'  b'020'      9.0   1938.0     4.0         1.0       10.0   \n",
       "4  b'010001'  b'010'      6.0   1939.0     2.0         2.0        NaN   \n",
       "\n",
       "   EXDEATHYR  EXDODSOURCE  FIRSTIW  ...  RMARST  RNEWSP  RNURSHM    RPPN  \\\n",
       "0     1995.0          1.0   1992.0  ...     NaN     NaN      NaN  b'000'   \n",
       "1     2001.0          1.0   1992.0  ...     NaN     NaN      NaN  b'000'   \n",
       "2     2013.0          1.0   1992.0  ...     NaN     NaN      NaN  b'000'   \n",
       "3     2015.0          1.0   1992.0  ...     NaN     NaN      NaN  b'000'   \n",
       "4        NaN          NaN   1992.0  ...     NaN     5.0      9.0  b'000'   \n",
       "\n",
       "   RPROXY  RRESCODE  RSUBHH  RSUBHHIW  RWEBCONTROL  VERSION  \n",
       "0     NaN       NaN    b'9'       NaN          NaN      1.0  \n",
       "1     NaN       NaN    b'9'       NaN          NaN      1.0  \n",
       "2     NaN       NaN    b'9'       NaN          NaN      1.0  \n",
       "3     NaN       NaN    b'9'       NaN          NaN      1.0  \n",
       "4     9.0    6002.0    b'0'       5.0          5.0      1.0  \n",
       "\n",
       "[5 rows x 552 columns]"
      ]
     },
     "execution_count": 5,
     "metadata": {},
     "output_type": "execute_result"
    }
   ],
   "source": [
    "#look at the first several respondents \n",
    "#to get an overview of Cross-Wave Tracker File\n",
    "tracker2020.head()"
   ]
  },
  {
   "cell_type": "code",
   "execution_count": 6,
   "metadata": {},
   "outputs": [
    {
     "data": {
      "text/html": [
       "<div>\n",
       "<style scoped>\n",
       "    .dataframe tbody tr th:only-of-type {\n",
       "        vertical-align: middle;\n",
       "    }\n",
       "\n",
       "    .dataframe tbody tr th {\n",
       "        vertical-align: top;\n",
       "    }\n",
       "\n",
       "    .dataframe thead th {\n",
       "        text-align: right;\n",
       "    }\n",
       "</style>\n",
       "<table border=\"1\" class=\"dataframe\">\n",
       "  <thead>\n",
       "    <tr style=\"text-align: right;\">\n",
       "      <th></th>\n",
       "      <th>HHID</th>\n",
       "      <th>PN</th>\n",
       "      <th>RSUBHH</th>\n",
       "      <th>QSUBHH</th>\n",
       "      <th>RPN_SP</th>\n",
       "      <th>RCSR</th>\n",
       "      <th>RFAMR</th>\n",
       "      <th>RFINR</th>\n",
       "      <th>RB084</th>\n",
       "      <th>RB000</th>\n",
       "      <th>...</th>\n",
       "      <th>RB066_4</th>\n",
       "      <th>RB067_4</th>\n",
       "      <th>RB068_4</th>\n",
       "      <th>RB070_4</th>\n",
       "      <th>RB063</th>\n",
       "      <th>RB076</th>\n",
       "      <th>RCOVFLAG</th>\n",
       "      <th>RBMODE</th>\n",
       "      <th>RVDATE</th>\n",
       "      <th>RVERSION</th>\n",
       "    </tr>\n",
       "  </thead>\n",
       "  <tbody>\n",
       "    <tr>\n",
       "      <th>0</th>\n",
       "      <td>b'010003'</td>\n",
       "      <td>b'030'</td>\n",
       "      <td>b'0'</td>\n",
       "      <td>b'0'</td>\n",
       "      <td>NaN</td>\n",
       "      <td>1.0</td>\n",
       "      <td>1.0</td>\n",
       "      <td>1.0</td>\n",
       "      <td>1.0</td>\n",
       "      <td>1.0</td>\n",
       "      <td>...</td>\n",
       "      <td>NaN</td>\n",
       "      <td>NaN</td>\n",
       "      <td>NaN</td>\n",
       "      <td>NaN</td>\n",
       "      <td>5.0</td>\n",
       "      <td>1.0</td>\n",
       "      <td>NaN</td>\n",
       "      <td>1.0</td>\n",
       "      <td>1.0</td>\n",
       "      <td>2.0</td>\n",
       "    </tr>\n",
       "    <tr>\n",
       "      <th>1</th>\n",
       "      <td>b'010004'</td>\n",
       "      <td>b'040'</td>\n",
       "      <td>b'1'</td>\n",
       "      <td>b'0'</td>\n",
       "      <td>NaN</td>\n",
       "      <td>1.0</td>\n",
       "      <td>1.0</td>\n",
       "      <td>1.0</td>\n",
       "      <td>1.0</td>\n",
       "      <td>2.0</td>\n",
       "      <td>...</td>\n",
       "      <td>NaN</td>\n",
       "      <td>NaN</td>\n",
       "      <td>NaN</td>\n",
       "      <td>NaN</td>\n",
       "      <td>5.0</td>\n",
       "      <td>1.0</td>\n",
       "      <td>NaN</td>\n",
       "      <td>1.0</td>\n",
       "      <td>3.0</td>\n",
       "      <td>2.0</td>\n",
       "    </tr>\n",
       "    <tr>\n",
       "      <th>2</th>\n",
       "      <td>b'010013'</td>\n",
       "      <td>b'040'</td>\n",
       "      <td>b'1'</td>\n",
       "      <td>b'1'</td>\n",
       "      <td>NaN</td>\n",
       "      <td>1.0</td>\n",
       "      <td>1.0</td>\n",
       "      <td>1.0</td>\n",
       "      <td>3.0</td>\n",
       "      <td>2.0</td>\n",
       "      <td>...</td>\n",
       "      <td>NaN</td>\n",
       "      <td>NaN</td>\n",
       "      <td>NaN</td>\n",
       "      <td>NaN</td>\n",
       "      <td>4.0</td>\n",
       "      <td>NaN</td>\n",
       "      <td>NaN</td>\n",
       "      <td>3.0</td>\n",
       "      <td>8.0</td>\n",
       "      <td>2.0</td>\n",
       "    </tr>\n",
       "    <tr>\n",
       "      <th>3</th>\n",
       "      <td>b'010038'</td>\n",
       "      <td>b'010'</td>\n",
       "      <td>b'0'</td>\n",
       "      <td>b'0'</td>\n",
       "      <td>b'040'</td>\n",
       "      <td>1.0</td>\n",
       "      <td>5.0</td>\n",
       "      <td>1.0</td>\n",
       "      <td>3.0</td>\n",
       "      <td>2.0</td>\n",
       "      <td>...</td>\n",
       "      <td>NaN</td>\n",
       "      <td>NaN</td>\n",
       "      <td>NaN</td>\n",
       "      <td>NaN</td>\n",
       "      <td>1.0</td>\n",
       "      <td>NaN</td>\n",
       "      <td>NaN</td>\n",
       "      <td>3.0</td>\n",
       "      <td>7.0</td>\n",
       "      <td>2.0</td>\n",
       "    </tr>\n",
       "    <tr>\n",
       "      <th>4</th>\n",
       "      <td>b'010038'</td>\n",
       "      <td>b'040'</td>\n",
       "      <td>b'0'</td>\n",
       "      <td>b'0'</td>\n",
       "      <td>b'010'</td>\n",
       "      <td>5.0</td>\n",
       "      <td>1.0</td>\n",
       "      <td>5.0</td>\n",
       "      <td>3.0</td>\n",
       "      <td>2.0</td>\n",
       "      <td>...</td>\n",
       "      <td>NaN</td>\n",
       "      <td>NaN</td>\n",
       "      <td>NaN</td>\n",
       "      <td>NaN</td>\n",
       "      <td>1.0</td>\n",
       "      <td>NaN</td>\n",
       "      <td>NaN</td>\n",
       "      <td>3.0</td>\n",
       "      <td>7.0</td>\n",
       "      <td>2.0</td>\n",
       "    </tr>\n",
       "  </tbody>\n",
       "</table>\n",
       "<p>5 rows × 170 columns</p>\n",
       "</div>"
      ],
      "text/plain": [
       "        HHID      PN RSUBHH QSUBHH  RPN_SP  RCSR  RFAMR  RFINR  RB084  RB000  \\\n",
       "0  b'010003'  b'030'   b'0'   b'0'     NaN   1.0    1.0    1.0    1.0    1.0   \n",
       "1  b'010004'  b'040'   b'1'   b'0'     NaN   1.0    1.0    1.0    1.0    2.0   \n",
       "2  b'010013'  b'040'   b'1'   b'1'     NaN   1.0    1.0    1.0    3.0    2.0   \n",
       "3  b'010038'  b'010'   b'0'   b'0'  b'040'   1.0    5.0    1.0    3.0    2.0   \n",
       "4  b'010038'  b'040'   b'0'   b'0'  b'010'   5.0    1.0    5.0    3.0    2.0   \n",
       "\n",
       "   ...  RB066_4  RB067_4  RB068_4  RB070_4  RB063  RB076  RCOVFLAG  RBMODE  \\\n",
       "0  ...      NaN      NaN      NaN      NaN    5.0    1.0       NaN     1.0   \n",
       "1  ...      NaN      NaN      NaN      NaN    5.0    1.0       NaN     1.0   \n",
       "2  ...      NaN      NaN      NaN      NaN    4.0    NaN       NaN     3.0   \n",
       "3  ...      NaN      NaN      NaN      NaN    1.0    NaN       NaN     3.0   \n",
       "4  ...      NaN      NaN      NaN      NaN    1.0    NaN       NaN     3.0   \n",
       "\n",
       "   RVDATE  RVERSION  \n",
       "0     1.0       2.0  \n",
       "1     3.0       2.0  \n",
       "2     8.0       2.0  \n",
       "3     7.0       2.0  \n",
       "4     7.0       2.0  \n",
       "\n",
       "[5 rows x 170 columns]"
      ]
     },
     "execution_count": 6,
     "metadata": {},
     "output_type": "execute_result"
    }
   ],
   "source": [
    "#look at the first several respondents \n",
    "#to get an overview of B2020 dataset\n",
    "B2022.head()"
   ]
  },
  {
   "cell_type": "code",
   "execution_count": 7,
   "metadata": {},
   "outputs": [
    {
     "data": {
      "text/plain": [
       "(15723, 170)"
      ]
     },
     "execution_count": 7,
     "metadata": {},
     "output_type": "execute_result"
    }
   ],
   "source": [
    "#check size of B2020 dataset\n",
    "B2022.shape"
   ]
  },
  {
   "cell_type": "code",
   "execution_count": 8,
   "metadata": {},
   "outputs": [
    {
     "data": {
      "text/plain": [
       "2005.0    1\n",
       "2019.0    1\n",
       "Name: RB066_4, dtype: int64"
      ]
     },
     "execution_count": 8,
     "metadata": {},
     "output_type": "execute_result"
    }
   ],
   "source": [
    "#check the distribution of variable \"RB066_4\"\n",
    "B2022.RB066_4.value_counts()"
   ]
  },
  {
   "cell_type": "code",
   "execution_count": 9,
   "metadata": {},
   "outputs": [
    {
     "data": {
      "text/plain": [
       "15581"
      ]
     },
     "execution_count": 9,
     "metadata": {},
     "output_type": "execute_result"
    }
   ],
   "source": [
    "#check missing values of variable \"RB003M\"\n",
    "B2022.RB003M.isnull().sum()"
   ]
  },
  {
   "cell_type": "code",
   "execution_count": 10,
   "metadata": {},
   "outputs": [
    {
     "data": {
      "text/plain": [
       "3.0     33\n",
       "5.0     26\n",
       "4.0     18\n",
       "9.0     17\n",
       "2.0     15\n",
       "6.0     14\n",
       "7.0      7\n",
       "8.0      6\n",
       "1.0      5\n",
       "98.0     1\n",
       "Name: RB003M, dtype: int64"
      ]
     },
     "execution_count": 10,
     "metadata": {},
     "output_type": "execute_result"
    }
   ],
   "source": [
    "#check the distribution of variable \"RB003M\"\n",
    "B2022.RB003M.value_counts()"
   ]
  },
  {
   "cell_type": "code",
   "execution_count": 11,
   "metadata": {},
   "outputs": [
    {
     "data": {
      "text/plain": [
       "15721"
      ]
     },
     "execution_count": 11,
     "metadata": {},
     "output_type": "execute_result"
    }
   ],
   "source": [
    "#check missing values of variable \"RB135\"\n",
    "B2022.RB135.isnull().sum()"
   ]
  },
  {
   "cell_type": "code",
   "execution_count": 12,
   "metadata": {},
   "outputs": [
    {
     "data": {
      "text/plain": [
       "2.0    2\n",
       "Name: RB135, dtype: int64"
      ]
     },
     "execution_count": 12,
     "metadata": {},
     "output_type": "execute_result"
    }
   ],
   "source": [
    "#check the distribution of variable \"RB135\"\n",
    "B2022.RB135.value_counts()"
   ]
  },
  {
   "cell_type": "code",
   "execution_count": 13,
   "metadata": {},
   "outputs": [
    {
     "data": {
      "text/html": [
       "<div>\n",
       "<style scoped>\n",
       "    .dataframe tbody tr th:only-of-type {\n",
       "        vertical-align: middle;\n",
       "    }\n",
       "\n",
       "    .dataframe tbody tr th {\n",
       "        vertical-align: top;\n",
       "    }\n",
       "\n",
       "    .dataframe thead th {\n",
       "        text-align: right;\n",
       "    }\n",
       "</style>\n",
       "<table border=\"1\" class=\"dataframe\">\n",
       "  <thead>\n",
       "    <tr style=\"text-align: right;\">\n",
       "      <th></th>\n",
       "      <th>HHID</th>\n",
       "      <th>PN</th>\n",
       "      <th>RSUBHH</th>\n",
       "      <th>QSUBHH</th>\n",
       "      <th>RPN_SP</th>\n",
       "      <th>RCSR</th>\n",
       "      <th>RFAMR</th>\n",
       "      <th>RFINR</th>\n",
       "      <th>RC231</th>\n",
       "      <th>RC234</th>\n",
       "      <th>...</th>\n",
       "      <th>RC178</th>\n",
       "      <th>RC179</th>\n",
       "      <th>RC180</th>\n",
       "      <th>RC181</th>\n",
       "      <th>RC182</th>\n",
       "      <th>RC183</th>\n",
       "      <th>RCOVFLAG</th>\n",
       "      <th>RCMODE</th>\n",
       "      <th>RVDATE</th>\n",
       "      <th>RVERSION</th>\n",
       "    </tr>\n",
       "  </thead>\n",
       "  <tbody>\n",
       "    <tr>\n",
       "      <th>0</th>\n",
       "      <td>b'010003'</td>\n",
       "      <td>b'030'</td>\n",
       "      <td>b'0'</td>\n",
       "      <td>b'0'</td>\n",
       "      <td>NaN</td>\n",
       "      <td>1.0</td>\n",
       "      <td>1.0</td>\n",
       "      <td>1.0</td>\n",
       "      <td>1.0</td>\n",
       "      <td>0.0</td>\n",
       "      <td>...</td>\n",
       "      <td>NaN</td>\n",
       "      <td>NaN</td>\n",
       "      <td>NaN</td>\n",
       "      <td>NaN</td>\n",
       "      <td>NaN</td>\n",
       "      <td>1.0</td>\n",
       "      <td>NaN</td>\n",
       "      <td>1.0</td>\n",
       "      <td>1.0</td>\n",
       "      <td>2.0</td>\n",
       "    </tr>\n",
       "    <tr>\n",
       "      <th>1</th>\n",
       "      <td>b'010004'</td>\n",
       "      <td>b'040'</td>\n",
       "      <td>b'1'</td>\n",
       "      <td>b'0'</td>\n",
       "      <td>NaN</td>\n",
       "      <td>1.0</td>\n",
       "      <td>1.0</td>\n",
       "      <td>1.0</td>\n",
       "      <td>1.0</td>\n",
       "      <td>0.0</td>\n",
       "      <td>...</td>\n",
       "      <td>NaN</td>\n",
       "      <td>NaN</td>\n",
       "      <td>NaN</td>\n",
       "      <td>NaN</td>\n",
       "      <td>NaN</td>\n",
       "      <td>1.0</td>\n",
       "      <td>NaN</td>\n",
       "      <td>1.0</td>\n",
       "      <td>3.0</td>\n",
       "      <td>2.0</td>\n",
       "    </tr>\n",
       "    <tr>\n",
       "      <th>2</th>\n",
       "      <td>b'010013'</td>\n",
       "      <td>b'040'</td>\n",
       "      <td>b'1'</td>\n",
       "      <td>b'1'</td>\n",
       "      <td>NaN</td>\n",
       "      <td>1.0</td>\n",
       "      <td>1.0</td>\n",
       "      <td>1.0</td>\n",
       "      <td>1.0</td>\n",
       "      <td>0.0</td>\n",
       "      <td>...</td>\n",
       "      <td>NaN</td>\n",
       "      <td>NaN</td>\n",
       "      <td>NaN</td>\n",
       "      <td>NaN</td>\n",
       "      <td>NaN</td>\n",
       "      <td>NaN</td>\n",
       "      <td>NaN</td>\n",
       "      <td>3.0</td>\n",
       "      <td>8.0</td>\n",
       "      <td>2.0</td>\n",
       "    </tr>\n",
       "    <tr>\n",
       "      <th>3</th>\n",
       "      <td>b'010038'</td>\n",
       "      <td>b'010'</td>\n",
       "      <td>b'0'</td>\n",
       "      <td>b'0'</td>\n",
       "      <td>b'040'</td>\n",
       "      <td>1.0</td>\n",
       "      <td>5.0</td>\n",
       "      <td>1.0</td>\n",
       "      <td>1.0</td>\n",
       "      <td>0.0</td>\n",
       "      <td>...</td>\n",
       "      <td>NaN</td>\n",
       "      <td>NaN</td>\n",
       "      <td>NaN</td>\n",
       "      <td>NaN</td>\n",
       "      <td>NaN</td>\n",
       "      <td>NaN</td>\n",
       "      <td>NaN</td>\n",
       "      <td>3.0</td>\n",
       "      <td>7.0</td>\n",
       "      <td>2.0</td>\n",
       "    </tr>\n",
       "    <tr>\n",
       "      <th>4</th>\n",
       "      <td>b'010038'</td>\n",
       "      <td>b'040'</td>\n",
       "      <td>b'0'</td>\n",
       "      <td>b'0'</td>\n",
       "      <td>b'010'</td>\n",
       "      <td>5.0</td>\n",
       "      <td>1.0</td>\n",
       "      <td>5.0</td>\n",
       "      <td>1.0</td>\n",
       "      <td>0.0</td>\n",
       "      <td>...</td>\n",
       "      <td>NaN</td>\n",
       "      <td>NaN</td>\n",
       "      <td>NaN</td>\n",
       "      <td>NaN</td>\n",
       "      <td>NaN</td>\n",
       "      <td>NaN</td>\n",
       "      <td>NaN</td>\n",
       "      <td>3.0</td>\n",
       "      <td>7.0</td>\n",
       "      <td>2.0</td>\n",
       "    </tr>\n",
       "  </tbody>\n",
       "</table>\n",
       "<p>5 rows × 260 columns</p>\n",
       "</div>"
      ],
      "text/plain": [
       "        HHID      PN RSUBHH QSUBHH  RPN_SP  RCSR  RFAMR  RFINR  RC231  RC234  \\\n",
       "0  b'010003'  b'030'   b'0'   b'0'     NaN   1.0    1.0    1.0    1.0    0.0   \n",
       "1  b'010004'  b'040'   b'1'   b'0'     NaN   1.0    1.0    1.0    1.0    0.0   \n",
       "2  b'010013'  b'040'   b'1'   b'1'     NaN   1.0    1.0    1.0    1.0    0.0   \n",
       "3  b'010038'  b'010'   b'0'   b'0'  b'040'   1.0    5.0    1.0    1.0    0.0   \n",
       "4  b'010038'  b'040'   b'0'   b'0'  b'010'   5.0    1.0    5.0    1.0    0.0   \n",
       "\n",
       "   ...  RC178  RC179  RC180  RC181  RC182  RC183  RCOVFLAG  RCMODE  RVDATE  \\\n",
       "0  ...    NaN    NaN    NaN    NaN    NaN    1.0       NaN     1.0     1.0   \n",
       "1  ...    NaN    NaN    NaN    NaN    NaN    1.0       NaN     1.0     3.0   \n",
       "2  ...    NaN    NaN    NaN    NaN    NaN    NaN       NaN     3.0     8.0   \n",
       "3  ...    NaN    NaN    NaN    NaN    NaN    NaN       NaN     3.0     7.0   \n",
       "4  ...    NaN    NaN    NaN    NaN    NaN    NaN       NaN     3.0     7.0   \n",
       "\n",
       "   RVERSION  \n",
       "0       2.0  \n",
       "1       2.0  \n",
       "2       2.0  \n",
       "3       2.0  \n",
       "4       2.0  \n",
       "\n",
       "[5 rows x 260 columns]"
      ]
     },
     "execution_count": 13,
     "metadata": {},
     "output_type": "execute_result"
    }
   ],
   "source": [
    "#look at the first 5 respondents \n",
    "#to get an overview of C2020 dataset\n",
    "C2022.head(5)"
   ]
  },
  {
   "cell_type": "code",
   "execution_count": 14,
   "metadata": {},
   "outputs": [
    {
     "data": {
      "text/plain": [
       "(15723, 260)"
      ]
     },
     "execution_count": 14,
     "metadata": {},
     "output_type": "execute_result"
    }
   ],
   "source": [
    "#check size of C2020 dataset\n",
    "C2022.shape"
   ]
  },
  {
   "cell_type": "code",
   "execution_count": 15,
   "metadata": {},
   "outputs": [
    {
     "data": {
      "text/plain": [
       " 5.0    11857\n",
       " 1.0     3690\n",
       " 6.0      101\n",
       " 4.0       47\n",
       " 8.0       20\n",
       "-8.0        5\n",
       " 9.0        3\n",
       "Name: RC036, dtype: int64"
      ]
     },
     "execution_count": 15,
     "metadata": {},
     "output_type": "execute_result"
    }
   ],
   "source": [
    "#check the distribution of variable \"RC036\"\n",
    "C2022[\"RC036\"].value_counts()"
   ]
  },
  {
   "attachments": {},
   "cell_type": "markdown",
   "metadata": {},
   "source": [
    "Combine datasets and subset columns we want"
   ]
  },
  {
   "cell_type": "code",
   "execution_count": 16,
   "metadata": {},
   "outputs": [
    {
     "name": "stderr",
     "output_type": "stream",
     "text": [
      "C:\\Users\\wxrtz\\AppData\\Local\\Temp\\ipykernel_9824\\641601027.py:4: SettingWithCopyWarning: \n",
      "A value is trying to be set on a copy of a slice from a DataFrame.\n",
      "Try using .loc[row_indexer,col_indexer] = value instead\n",
      "\n",
      "See the caveats in the documentation: https://pandas.pydata.org/pandas-docs/stable/user_guide/indexing.html#returning-a-view-versus-a-copy\n",
      "  df_C2022[\"Gender\"] = B2022[\"RB135\"]\n"
     ]
    }
   ],
   "source": [
    "#choose variables we want in dataset C2022\n",
    "#to create new dataset\n",
    "df_C2022 = C2022[[\"HHID\", \"PN\", \"RC150\", \"RC167\", \"RC036\", \"RC280\", \"RC272\", \"RC083\", \"RC223\", \"RC224\", \"RC225\"]]\n",
    "df_C2022[\"Gender\"] = B2022[\"RB135\"]"
   ]
  },
  {
   "cell_type": "code",
   "execution_count": 17,
   "metadata": {},
   "outputs": [
    {
     "data": {
      "text/html": [
       "<div>\n",
       "<style scoped>\n",
       "    .dataframe tbody tr th:only-of-type {\n",
       "        vertical-align: middle;\n",
       "    }\n",
       "\n",
       "    .dataframe tbody tr th {\n",
       "        vertical-align: top;\n",
       "    }\n",
       "\n",
       "    .dataframe thead th {\n",
       "        text-align: right;\n",
       "    }\n",
       "</style>\n",
       "<table border=\"1\" class=\"dataframe\">\n",
       "  <thead>\n",
       "    <tr style=\"text-align: right;\">\n",
       "      <th></th>\n",
       "      <th>HHID</th>\n",
       "      <th>PN</th>\n",
       "      <th>BIRTHMO</th>\n",
       "      <th>BIRTHYR</th>\n",
       "      <th>DEGREE</th>\n",
       "      <th>EFTFASSIGN</th>\n",
       "      <th>EXDEATHMO</th>\n",
       "      <th>EXDEATHYR</th>\n",
       "      <th>EXDODSOURCE</th>\n",
       "      <th>FIRSTIW</th>\n",
       "      <th>...</th>\n",
       "      <th>RC150</th>\n",
       "      <th>RC167</th>\n",
       "      <th>RC036</th>\n",
       "      <th>RC280</th>\n",
       "      <th>RC272</th>\n",
       "      <th>RC083</th>\n",
       "      <th>RC223</th>\n",
       "      <th>RC224</th>\n",
       "      <th>RC225</th>\n",
       "      <th>Gender</th>\n",
       "    </tr>\n",
       "  </thead>\n",
       "  <tbody>\n",
       "    <tr>\n",
       "      <th>0</th>\n",
       "      <td>b'010003'</td>\n",
       "      <td>b'030'</td>\n",
       "      <td>3.0</td>\n",
       "      <td>1956.0</td>\n",
       "      <td>5.0</td>\n",
       "      <td>1.0</td>\n",
       "      <td>NaN</td>\n",
       "      <td>NaN</td>\n",
       "      <td>NaN</td>\n",
       "      <td>1992.0</td>\n",
       "      <td>...</td>\n",
       "      <td>5.0</td>\n",
       "      <td>5.0</td>\n",
       "      <td>5.0</td>\n",
       "      <td>1.0</td>\n",
       "      <td>1.0</td>\n",
       "      <td>2.0</td>\n",
       "      <td>1.0</td>\n",
       "      <td>1.0</td>\n",
       "      <td>2.0</td>\n",
       "      <td>NaN</td>\n",
       "    </tr>\n",
       "    <tr>\n",
       "      <th>1</th>\n",
       "      <td>b'010004'</td>\n",
       "      <td>b'040'</td>\n",
       "      <td>4.0</td>\n",
       "      <td>1946.0</td>\n",
       "      <td>2.0</td>\n",
       "      <td>1.0</td>\n",
       "      <td>NaN</td>\n",
       "      <td>NaN</td>\n",
       "      <td>NaN</td>\n",
       "      <td>1992.0</td>\n",
       "      <td>...</td>\n",
       "      <td>5.0</td>\n",
       "      <td>5.0</td>\n",
       "      <td>5.0</td>\n",
       "      <td>5.0</td>\n",
       "      <td>5.0</td>\n",
       "      <td>3.0</td>\n",
       "      <td>1.0</td>\n",
       "      <td>1.0</td>\n",
       "      <td>1.0</td>\n",
       "      <td>NaN</td>\n",
       "    </tr>\n",
       "    <tr>\n",
       "      <th>2</th>\n",
       "      <td>b'010013'</td>\n",
       "      <td>b'040'</td>\n",
       "      <td>11.0</td>\n",
       "      <td>1947.0</td>\n",
       "      <td>2.0</td>\n",
       "      <td>1.0</td>\n",
       "      <td>NaN</td>\n",
       "      <td>NaN</td>\n",
       "      <td>NaN</td>\n",
       "      <td>1992.0</td>\n",
       "      <td>...</td>\n",
       "      <td>5.0</td>\n",
       "      <td>5.0</td>\n",
       "      <td>5.0</td>\n",
       "      <td>5.0</td>\n",
       "      <td>5.0</td>\n",
       "      <td>3.0</td>\n",
       "      <td>4.0</td>\n",
       "      <td>4.0</td>\n",
       "      <td>2.0</td>\n",
       "      <td>NaN</td>\n",
       "    </tr>\n",
       "    <tr>\n",
       "      <th>3</th>\n",
       "      <td>b'010038'</td>\n",
       "      <td>b'010'</td>\n",
       "      <td>7.0</td>\n",
       "      <td>1936.0</td>\n",
       "      <td>4.0</td>\n",
       "      <td>1.0</td>\n",
       "      <td>NaN</td>\n",
       "      <td>NaN</td>\n",
       "      <td>NaN</td>\n",
       "      <td>1992.0</td>\n",
       "      <td>...</td>\n",
       "      <td>5.0</td>\n",
       "      <td>5.0</td>\n",
       "      <td>1.0</td>\n",
       "      <td>5.0</td>\n",
       "      <td>5.0</td>\n",
       "      <td>2.0</td>\n",
       "      <td>1.0</td>\n",
       "      <td>1.0</td>\n",
       "      <td>1.0</td>\n",
       "      <td>NaN</td>\n",
       "    </tr>\n",
       "    <tr>\n",
       "      <th>4</th>\n",
       "      <td>b'010038'</td>\n",
       "      <td>b'040'</td>\n",
       "      <td>3.0</td>\n",
       "      <td>1943.0</td>\n",
       "      <td>4.0</td>\n",
       "      <td>1.0</td>\n",
       "      <td>NaN</td>\n",
       "      <td>NaN</td>\n",
       "      <td>NaN</td>\n",
       "      <td>1992.0</td>\n",
       "      <td>...</td>\n",
       "      <td>5.0</td>\n",
       "      <td>5.0</td>\n",
       "      <td>5.0</td>\n",
       "      <td>NaN</td>\n",
       "      <td>5.0</td>\n",
       "      <td>1.0</td>\n",
       "      <td>7.0</td>\n",
       "      <td>7.0</td>\n",
       "      <td>7.0</td>\n",
       "      <td>NaN</td>\n",
       "    </tr>\n",
       "  </tbody>\n",
       "</table>\n",
       "<p>5 rows × 562 columns</p>\n",
       "</div>"
      ],
      "text/plain": [
       "        HHID      PN  BIRTHMO  BIRTHYR  DEGREE  EFTFASSIGN  EXDEATHMO  \\\n",
       "0  b'010003'  b'030'      3.0   1956.0     5.0         1.0        NaN   \n",
       "1  b'010004'  b'040'      4.0   1946.0     2.0         1.0        NaN   \n",
       "2  b'010013'  b'040'     11.0   1947.0     2.0         1.0        NaN   \n",
       "3  b'010038'  b'010'      7.0   1936.0     4.0         1.0        NaN   \n",
       "4  b'010038'  b'040'      3.0   1943.0     4.0         1.0        NaN   \n",
       "\n",
       "   EXDEATHYR  EXDODSOURCE  FIRSTIW  ...  RC150  RC167  RC036  RC280  RC272  \\\n",
       "0        NaN          NaN   1992.0  ...    5.0    5.0    5.0    1.0    1.0   \n",
       "1        NaN          NaN   1992.0  ...    5.0    5.0    5.0    5.0    5.0   \n",
       "2        NaN          NaN   1992.0  ...    5.0    5.0    5.0    5.0    5.0   \n",
       "3        NaN          NaN   1992.0  ...    5.0    5.0    1.0    5.0    5.0   \n",
       "4        NaN          NaN   1992.0  ...    5.0    5.0    5.0    NaN    5.0   \n",
       "\n",
       "   RC083  RC223  RC224  RC225  Gender  \n",
       "0    2.0    1.0    1.0    2.0     NaN  \n",
       "1    3.0    1.0    1.0    1.0     NaN  \n",
       "2    3.0    4.0    4.0    2.0     NaN  \n",
       "3    2.0    1.0    1.0    1.0     NaN  \n",
       "4    1.0    7.0    7.0    7.0     NaN  \n",
       "\n",
       "[5 rows x 562 columns]"
      ]
     },
     "execution_count": 17,
     "metadata": {},
     "output_type": "execute_result"
    }
   ],
   "source": [
    "#merge two datasets\n",
    "merge_data0 = pd.merge(tracker2020, df_C2022, how='right')\n",
    "##look at the first 5 respondents to get an overview of merged0 dataset\n",
    "merge_data0.head(5)"
   ]
  },
  {
   "cell_type": "code",
   "execution_count": 18,
   "metadata": {},
   "outputs": [
    {
     "data": {
      "text/plain": [
       "(15723, 562)"
      ]
     },
     "execution_count": 18,
     "metadata": {},
     "output_type": "execute_result"
    }
   ],
   "source": [
    "#check size of the merged dataset\n",
    "merge_data0.shape"
   ]
  },
  {
   "cell_type": "code",
   "execution_count": 19,
   "metadata": {},
   "outputs": [],
   "source": [
    "#choose the variables we want from the merged dataset\n",
    "#to create new dataset\n",
    "merge_data = merge_data0[[\"HHID\",\"PN\", \"BIRTHYR\", \"GENDER\", \"RACE\", \n",
    "\"RLIVARR\", \"RC150\", \"RC167\", \"RC036\",\"RC280\", \"RC272\", \"RC083\", \"RC223\", \"RC224\", \"RC225\"]]\n",
    "\n",
    "# rename the column names to be more meaningful\n",
    "merge_data = merge_data.rename(columns={\"HHID\":\"HouseholdID\", \"PN\":\"PersonalID\", \"BIRTHYR\":\"BirthYear\", \n",
    "\"RLIVARR\":\"living_status\", \"RC150\":\"depressed\", \"RC167\":\"lose_interest\", \n",
    "\"RC036\":\"cardiovascular\", \"RC280\":\"osteoporosis\", \"RC272\":\"alzheimer\", \n",
    "\"RC083\":\"sleep\", \"RC223\":\"vigorous_exercise\", \"RC224\":\"moderate_exercise\", \"RC225\":\"mild_exercise\"}, index={'ONE': 'Row_1'})"
   ]
  },
  {
   "cell_type": "code",
   "execution_count": 20,
   "metadata": {},
   "outputs": [
    {
     "data": {
      "text/html": [
       "<div>\n",
       "<style scoped>\n",
       "    .dataframe tbody tr th:only-of-type {\n",
       "        vertical-align: middle;\n",
       "    }\n",
       "\n",
       "    .dataframe tbody tr th {\n",
       "        vertical-align: top;\n",
       "    }\n",
       "\n",
       "    .dataframe thead th {\n",
       "        text-align: right;\n",
       "    }\n",
       "</style>\n",
       "<table border=\"1\" class=\"dataframe\">\n",
       "  <thead>\n",
       "    <tr style=\"text-align: right;\">\n",
       "      <th></th>\n",
       "      <th>HouseholdID</th>\n",
       "      <th>PersonalID</th>\n",
       "      <th>BirthYear</th>\n",
       "      <th>GENDER</th>\n",
       "      <th>RACE</th>\n",
       "      <th>living_status</th>\n",
       "      <th>depressed</th>\n",
       "      <th>lose_interest</th>\n",
       "      <th>cardiovascular</th>\n",
       "      <th>osteoporosis</th>\n",
       "      <th>alzheimer</th>\n",
       "      <th>sleep</th>\n",
       "      <th>vigorous_exercise</th>\n",
       "      <th>moderate_exercise</th>\n",
       "      <th>mild_exercise</th>\n",
       "    </tr>\n",
       "  </thead>\n",
       "  <tbody>\n",
       "    <tr>\n",
       "      <th>12005</th>\n",
       "      <td>b'542692'</td>\n",
       "      <td>b'010'</td>\n",
       "      <td>1963.0</td>\n",
       "      <td>2.0</td>\n",
       "      <td>7.0</td>\n",
       "      <td>4.0</td>\n",
       "      <td>5.0</td>\n",
       "      <td>5.0</td>\n",
       "      <td>5.0</td>\n",
       "      <td>5.0</td>\n",
       "      <td>5.0</td>\n",
       "      <td>2.0</td>\n",
       "      <td>4.0</td>\n",
       "      <td>4.0</td>\n",
       "      <td>1.0</td>\n",
       "    </tr>\n",
       "    <tr>\n",
       "      <th>3047</th>\n",
       "      <td>b'073149'</td>\n",
       "      <td>b'010'</td>\n",
       "      <td>1935.0</td>\n",
       "      <td>1.0</td>\n",
       "      <td>2.0</td>\n",
       "      <td>1.0</td>\n",
       "      <td>5.0</td>\n",
       "      <td>5.0</td>\n",
       "      <td>5.0</td>\n",
       "      <td>5.0</td>\n",
       "      <td>5.0</td>\n",
       "      <td>3.0</td>\n",
       "      <td>7.0</td>\n",
       "      <td>7.0</td>\n",
       "      <td>2.0</td>\n",
       "    </tr>\n",
       "    <tr>\n",
       "      <th>13922</th>\n",
       "      <td>b'546513'</td>\n",
       "      <td>b'010'</td>\n",
       "      <td>1963.0</td>\n",
       "      <td>2.0</td>\n",
       "      <td>1.0</td>\n",
       "      <td>1.0</td>\n",
       "      <td>5.0</td>\n",
       "      <td>5.0</td>\n",
       "      <td>5.0</td>\n",
       "      <td>5.0</td>\n",
       "      <td>5.0</td>\n",
       "      <td>2.0</td>\n",
       "      <td>4.0</td>\n",
       "      <td>2.0</td>\n",
       "      <td>1.0</td>\n",
       "    </tr>\n",
       "    <tr>\n",
       "      <th>12163</th>\n",
       "      <td>b'543028'</td>\n",
       "      <td>b'020'</td>\n",
       "      <td>1960.0</td>\n",
       "      <td>2.0</td>\n",
       "      <td>1.0</td>\n",
       "      <td>1.0</td>\n",
       "      <td>5.0</td>\n",
       "      <td>5.0</td>\n",
       "      <td>5.0</td>\n",
       "      <td>5.0</td>\n",
       "      <td>5.0</td>\n",
       "      <td>3.0</td>\n",
       "      <td>4.0</td>\n",
       "      <td>1.0</td>\n",
       "      <td>7.0</td>\n",
       "    </tr>\n",
       "    <tr>\n",
       "      <th>15192</th>\n",
       "      <td>b'914385'</td>\n",
       "      <td>b'010'</td>\n",
       "      <td>1955.0</td>\n",
       "      <td>2.0</td>\n",
       "      <td>1.0</td>\n",
       "      <td>1.0</td>\n",
       "      <td>5.0</td>\n",
       "      <td>5.0</td>\n",
       "      <td>5.0</td>\n",
       "      <td>5.0</td>\n",
       "      <td>5.0</td>\n",
       "      <td>2.0</td>\n",
       "      <td>1.0</td>\n",
       "      <td>7.0</td>\n",
       "      <td>7.0</td>\n",
       "    </tr>\n",
       "  </tbody>\n",
       "</table>\n",
       "</div>"
      ],
      "text/plain": [
       "      HouseholdID PersonalID  BirthYear  GENDER  RACE  living_status  \\\n",
       "12005   b'542692'     b'010'     1963.0     2.0   7.0            4.0   \n",
       "3047    b'073149'     b'010'     1935.0     1.0   2.0            1.0   \n",
       "13922   b'546513'     b'010'     1963.0     2.0   1.0            1.0   \n",
       "12163   b'543028'     b'020'     1960.0     2.0   1.0            1.0   \n",
       "15192   b'914385'     b'010'     1955.0     2.0   1.0            1.0   \n",
       "\n",
       "       depressed  lose_interest  cardiovascular  osteoporosis  alzheimer  \\\n",
       "12005        5.0            5.0             5.0           5.0        5.0   \n",
       "3047         5.0            5.0             5.0           5.0        5.0   \n",
       "13922        5.0            5.0             5.0           5.0        5.0   \n",
       "12163        5.0            5.0             5.0           5.0        5.0   \n",
       "15192        5.0            5.0             5.0           5.0        5.0   \n",
       "\n",
       "       sleep  vigorous_exercise  moderate_exercise  mild_exercise  \n",
       "12005    2.0                4.0                4.0            1.0  \n",
       "3047     3.0                7.0                7.0            2.0  \n",
       "13922    2.0                4.0                2.0            1.0  \n",
       "12163    3.0                4.0                1.0            7.0  \n",
       "15192    2.0                1.0                7.0            7.0  "
      ]
     },
     "execution_count": 20,
     "metadata": {},
     "output_type": "execute_result"
    }
   ],
   "source": [
    "##look at the first 5 respondents to get an overview of merged dataset\n",
    "merge_data.sample(5)"
   ]
  },
  {
   "cell_type": "code",
   "execution_count": 21,
   "metadata": {},
   "outputs": [
    {
     "data": {
      "text/plain": [
       "HouseholdID             0\n",
       "PersonalID              0\n",
       "BirthYear               0\n",
       "GENDER                  0\n",
       "RACE                    0\n",
       "living_status           0\n",
       "depressed             721\n",
       "lose_interest        1826\n",
       "cardiovascular          0\n",
       "osteoporosis         1946\n",
       "alzheimer               0\n",
       "sleep                   0\n",
       "vigorous_exercise       0\n",
       "moderate_exercise       0\n",
       "mild_exercise           0\n",
       "dtype: int64"
      ]
     },
     "execution_count": 21,
     "metadata": {},
     "output_type": "execute_result"
    }
   ],
   "source": [
    "#check the distribution of merged dataset\n",
    "merge_data.isnull().sum()"
   ]
  },
  {
   "cell_type": "code",
   "execution_count": 22,
   "metadata": {},
   "outputs": [
    {
     "data": {
      "text/plain": [
       "HouseholdID           object\n",
       "PersonalID            object\n",
       "BirthYear            float64\n",
       "GENDER               float64\n",
       "RACE                 float64\n",
       "living_status        float64\n",
       "depressed            float64\n",
       "lose_interest        float64\n",
       "cardiovascular       float64\n",
       "osteoporosis         float64\n",
       "alzheimer            float64\n",
       "sleep                float64\n",
       "vigorous_exercise    float64\n",
       "moderate_exercise    float64\n",
       "mild_exercise        float64\n",
       "dtype: object"
      ]
     },
     "execution_count": 22,
     "metadata": {},
     "output_type": "execute_result"
    }
   ],
   "source": [
    "#check types of variables\n",
    "merge_data.dtypes"
   ]
  },
  {
   "cell_type": "code",
   "execution_count": 23,
   "metadata": {},
   "outputs": [
    {
     "data": {
      "text/html": [
       "<div>\n",
       "<style scoped>\n",
       "    .dataframe tbody tr th:only-of-type {\n",
       "        vertical-align: middle;\n",
       "    }\n",
       "\n",
       "    .dataframe tbody tr th {\n",
       "        vertical-align: top;\n",
       "    }\n",
       "\n",
       "    .dataframe thead th {\n",
       "        text-align: right;\n",
       "    }\n",
       "</style>\n",
       "<table border=\"1\" class=\"dataframe\">\n",
       "  <thead>\n",
       "    <tr style=\"text-align: right;\">\n",
       "      <th></th>\n",
       "      <th>BirthYear</th>\n",
       "      <th>GENDER</th>\n",
       "      <th>RACE</th>\n",
       "      <th>living_status</th>\n",
       "      <th>depressed</th>\n",
       "      <th>lose_interest</th>\n",
       "      <th>cardiovascular</th>\n",
       "      <th>osteoporosis</th>\n",
       "      <th>alzheimer</th>\n",
       "      <th>sleep</th>\n",
       "      <th>vigorous_exercise</th>\n",
       "      <th>moderate_exercise</th>\n",
       "      <th>mild_exercise</th>\n",
       "    </tr>\n",
       "  </thead>\n",
       "  <tbody>\n",
       "    <tr>\n",
       "      <th>count</th>\n",
       "      <td>15723.000000</td>\n",
       "      <td>15723.000000</td>\n",
       "      <td>15723.000000</td>\n",
       "      <td>15723.000000</td>\n",
       "      <td>15002.000000</td>\n",
       "      <td>13897.000000</td>\n",
       "      <td>15723.000000</td>\n",
       "      <td>13777.000000</td>\n",
       "      <td>15723.000000</td>\n",
       "      <td>15723.000000</td>\n",
       "      <td>15723.000000</td>\n",
       "      <td>15723.000000</td>\n",
       "      <td>15723.000000</td>\n",
       "    </tr>\n",
       "    <tr>\n",
       "      <th>mean</th>\n",
       "      <td>1951.556955</td>\n",
       "      <td>1.593653</td>\n",
       "      <td>1.943331</td>\n",
       "      <td>2.432805</td>\n",
       "      <td>4.288295</td>\n",
       "      <td>4.600417</td>\n",
       "      <td>4.065128</td>\n",
       "      <td>4.789867</td>\n",
       "      <td>4.938752</td>\n",
       "      <td>2.342047</td>\n",
       "      <td>3.205241</td>\n",
       "      <td>2.792851</td>\n",
       "      <td>2.573427</td>\n",
       "    </tr>\n",
       "    <tr>\n",
       "      <th>std</th>\n",
       "      <td>10.883032</td>\n",
       "      <td>0.491167</td>\n",
       "      <td>1.922664</td>\n",
       "      <td>1.788132</td>\n",
       "      <td>1.580920</td>\n",
       "      <td>1.263958</td>\n",
       "      <td>1.720136</td>\n",
       "      <td>0.965531</td>\n",
       "      <td>0.574000</td>\n",
       "      <td>0.843967</td>\n",
       "      <td>1.478435</td>\n",
       "      <td>1.973368</td>\n",
       "      <td>2.042482</td>\n",
       "    </tr>\n",
       "    <tr>\n",
       "      <th>min</th>\n",
       "      <td>1916.000000</td>\n",
       "      <td>1.000000</td>\n",
       "      <td>0.000000</td>\n",
       "      <td>1.000000</td>\n",
       "      <td>-8.000000</td>\n",
       "      <td>-8.000000</td>\n",
       "      <td>-8.000000</td>\n",
       "      <td>-8.000000</td>\n",
       "      <td>-8.000000</td>\n",
       "      <td>-8.000000</td>\n",
       "      <td>-8.000000</td>\n",
       "      <td>-8.000000</td>\n",
       "      <td>-8.000000</td>\n",
       "    </tr>\n",
       "    <tr>\n",
       "      <th>25%</th>\n",
       "      <td>1943.000000</td>\n",
       "      <td>1.000000</td>\n",
       "      <td>1.000000</td>\n",
       "      <td>1.000000</td>\n",
       "      <td>5.000000</td>\n",
       "      <td>5.000000</td>\n",
       "      <td>5.000000</td>\n",
       "      <td>5.000000</td>\n",
       "      <td>5.000000</td>\n",
       "      <td>2.000000</td>\n",
       "      <td>2.000000</td>\n",
       "      <td>1.000000</td>\n",
       "      <td>1.000000</td>\n",
       "    </tr>\n",
       "    <tr>\n",
       "      <th>50%</th>\n",
       "      <td>1953.000000</td>\n",
       "      <td>2.000000</td>\n",
       "      <td>1.000000</td>\n",
       "      <td>1.000000</td>\n",
       "      <td>5.000000</td>\n",
       "      <td>5.000000</td>\n",
       "      <td>5.000000</td>\n",
       "      <td>5.000000</td>\n",
       "      <td>5.000000</td>\n",
       "      <td>2.000000</td>\n",
       "      <td>4.000000</td>\n",
       "      <td>2.000000</td>\n",
       "      <td>2.000000</td>\n",
       "    </tr>\n",
       "    <tr>\n",
       "      <th>75%</th>\n",
       "      <td>1960.000000</td>\n",
       "      <td>2.000000</td>\n",
       "      <td>2.000000</td>\n",
       "      <td>4.000000</td>\n",
       "      <td>5.000000</td>\n",
       "      <td>5.000000</td>\n",
       "      <td>5.000000</td>\n",
       "      <td>5.000000</td>\n",
       "      <td>5.000000</td>\n",
       "      <td>3.000000</td>\n",
       "      <td>4.000000</td>\n",
       "      <td>4.000000</td>\n",
       "      <td>4.000000</td>\n",
       "    </tr>\n",
       "    <tr>\n",
       "      <th>max</th>\n",
       "      <td>1995.000000</td>\n",
       "      <td>2.000000</td>\n",
       "      <td>7.000000</td>\n",
       "      <td>6.000000</td>\n",
       "      <td>9.000000</td>\n",
       "      <td>9.000000</td>\n",
       "      <td>9.000000</td>\n",
       "      <td>9.000000</td>\n",
       "      <td>9.000000</td>\n",
       "      <td>9.000000</td>\n",
       "      <td>9.000000</td>\n",
       "      <td>9.000000</td>\n",
       "      <td>9.000000</td>\n",
       "    </tr>\n",
       "  </tbody>\n",
       "</table>\n",
       "</div>"
      ],
      "text/plain": [
       "          BirthYear        GENDER          RACE  living_status     depressed  \\\n",
       "count  15723.000000  15723.000000  15723.000000   15723.000000  15002.000000   \n",
       "mean    1951.556955      1.593653      1.943331       2.432805      4.288295   \n",
       "std       10.883032      0.491167      1.922664       1.788132      1.580920   \n",
       "min     1916.000000      1.000000      0.000000       1.000000     -8.000000   \n",
       "25%     1943.000000      1.000000      1.000000       1.000000      5.000000   \n",
       "50%     1953.000000      2.000000      1.000000       1.000000      5.000000   \n",
       "75%     1960.000000      2.000000      2.000000       4.000000      5.000000   \n",
       "max     1995.000000      2.000000      7.000000       6.000000      9.000000   \n",
       "\n",
       "       lose_interest  cardiovascular  osteoporosis     alzheimer  \\\n",
       "count   13897.000000    15723.000000  13777.000000  15723.000000   \n",
       "mean        4.600417        4.065128      4.789867      4.938752   \n",
       "std         1.263958        1.720136      0.965531      0.574000   \n",
       "min        -8.000000       -8.000000     -8.000000     -8.000000   \n",
       "25%         5.000000        5.000000      5.000000      5.000000   \n",
       "50%         5.000000        5.000000      5.000000      5.000000   \n",
       "75%         5.000000        5.000000      5.000000      5.000000   \n",
       "max         9.000000        9.000000      9.000000      9.000000   \n",
       "\n",
       "              sleep  vigorous_exercise  moderate_exercise  mild_exercise  \n",
       "count  15723.000000       15723.000000       15723.000000   15723.000000  \n",
       "mean       2.342047           3.205241           2.792851       2.573427  \n",
       "std        0.843967           1.478435           1.973368       2.042482  \n",
       "min       -8.000000          -8.000000          -8.000000      -8.000000  \n",
       "25%        2.000000           2.000000           1.000000       1.000000  \n",
       "50%        2.000000           4.000000           2.000000       2.000000  \n",
       "75%        3.000000           4.000000           4.000000       4.000000  \n",
       "max        9.000000           9.000000           9.000000       9.000000  "
      ]
     },
     "execution_count": 23,
     "metadata": {},
     "output_type": "execute_result"
    }
   ],
   "source": [
    "#summarize the statistics of dataset\n",
    "#for example, count, mean, std and min \n",
    "merge_data.describe()"
   ]
  },
  {
   "cell_type": "code",
   "execution_count": 24,
   "metadata": {},
   "outputs": [
    {
     "data": {
      "text/plain": [
       "HouseholdID             0\n",
       "PersonalID              0\n",
       "BirthYear               0\n",
       "GENDER                  0\n",
       "RACE                    0\n",
       "living_status           0\n",
       "depressed             721\n",
       "lose_interest        1826\n",
       "cardiovascular          0\n",
       "osteoporosis         1946\n",
       "alzheimer               0\n",
       "sleep                   0\n",
       "vigorous_exercise       0\n",
       "moderate_exercise       0\n",
       "mild_exercise           0\n",
       "dtype: int64"
      ]
     },
     "execution_count": 24,
     "metadata": {},
     "output_type": "execute_result"
    }
   ],
   "source": [
    "#check missing values for merged dataset\n",
    "merge_data.isnull().sum()"
   ]
  },
  {
   "attachments": {},
   "cell_type": "markdown",
   "metadata": {},
   "source": [
    "Recode and rename categories"
   ]
  },
  {
   "cell_type": "code",
   "execution_count": 25,
   "metadata": {},
   "outputs": [],
   "source": [
    "# convert three diseases variable and some other variables to categorical variables\n",
    "merge_data[\"GENDER\"] = pd.Categorical(merge_data[\"GENDER\"])\n",
    "merge_data[\"RACE\"] = pd.Categorical(merge_data[\"RACE\"])\n",
    "merge_data[\"living_status\"] = pd.Categorical(merge_data[\"living_status\"])\n",
    "merge_data[\"depressed\"] = pd.Categorical(merge_data[\"depressed\"])\n",
    "merge_data[\"lose_interest\"] = pd.Categorical(merge_data[\"lose_interest\"])\n",
    "merge_data[\"cardiovascular\"] = pd.Categorical(merge_data[\"cardiovascular\"])\n",
    "merge_data[\"osteoporosis\"] = pd.Categorical(merge_data[\"osteoporosis\"])\n",
    "merge_data[\"alzheimer\"] = pd.Categorical(merge_data[\"alzheimer\"])\n",
    "merge_data[\"sleep\"] = pd.Categorical(merge_data[\"sleep\"])"
   ]
  },
  {
   "cell_type": "code",
   "execution_count": 26,
   "metadata": {},
   "outputs": [],
   "source": [
    "#for Cardiovascular: detect the number of responses for each category\n",
    "merge_data[\"cardiovascular\"].value_counts()\n",
    "\n",
    "#\"cardiovascular\" contains original categories\n",
    "cardiovascular = [5,1,6,4,8,-8,9]\n",
    "#\"cardiovascular0\" contains new categories\n",
    "cardiovascular0 = [0,1,0,0,'NA','NA','NA']\n",
    "#recode 7 categories into 3 categories, which is 1, 0 and NA\n",
    "merge_data['cardiovascular'] = merge_data['cardiovascular'].replace(cardiovascular, cardiovascular0)"
   ]
  },
  {
   "cell_type": "code",
   "execution_count": 27,
   "metadata": {},
   "outputs": [],
   "source": [
    "#for Osteoporosis: detect the number of responses for each category\n",
    "merge_data[\"osteoporosis\"].value_counts()\n",
    "\n",
    "#\"osteoporosis\" contains original categories\n",
    "osteoporosis = [5,1,8,-8,9]\n",
    "#\"osteoporosis0\" contains new categories\n",
    "osteoporosis0 = [0,1,'NA','NA','NA']\n",
    "#recode 5 categories into 3 categories, which is 1, 0 and NA\n",
    "merge_data['osteoporosis'] = merge_data['osteoporosis'].replace(osteoporosis, osteoporosis0)"
   ]
  },
  {
   "cell_type": "code",
   "execution_count": 28,
   "metadata": {},
   "outputs": [],
   "source": [
    "#for Alzheimer: detect the number of responses for each category\n",
    "merge_data[\"alzheimer\"].value_counts()\n",
    "\n",
    "#\"alzheimer\" contains original categories\n",
    "alzheimer = [5,1,4,8,-8,9]\n",
    "#\"alzheimer0\" contains new categories\n",
    "alzheimer0 = [0,1,0,'NA','NA','NA']\n",
    "#recode 6 categories into 3 categories, which is 1, 0 and NA\n",
    "merge_data['alzheimer'] = merge_data['alzheimer'].replace(alzheimer, alzheimer0)"
   ]
  },
  {
   "cell_type": "code",
   "execution_count": 29,
   "metadata": {},
   "outputs": [],
   "source": [
    "#for GENDER: detect the number of responses for each category\n",
    "merge_data[\"GENDER\"].value_counts()\n",
    "\n",
    "#\"GENDER\" contains original categories\n",
    "GENDER = [1,2]\n",
    "#\"GENDER0\" contains new categories\n",
    "GENDER0 = [\"Male\", \"Female\"]\n",
    "#recode into meaningful categories for plotting, 1-Male, 2-Female\n",
    "merge_data['GENDER'] = merge_data['GENDER'].replace(GENDER, GENDER0)"
   ]
  },
  {
   "cell_type": "code",
   "execution_count": 30,
   "metadata": {},
   "outputs": [],
   "source": [
    "#for Race: detect the number of responses for each category\n",
    "merge_data[\"RACE\"].value_counts()\n",
    "\n",
    "#\"RACE\" contains original categories\n",
    "RACE = [1,2,7,0]\n",
    "#\"RACE0\" contains new categories\n",
    "RACE0 = [\"White/Caucasian\", \"Black or African American\", \"Other\", \"NA\"]\n",
    "#recode into meaningful categories for plotting, 1-NA, 2-White/Caucasian, 7-Black or African American, 0-Other\n",
    "merge_data['RACE'] = merge_data['RACE'].replace(RACE, RACE0)"
   ]
  },
  {
   "cell_type": "code",
   "execution_count": 31,
   "metadata": {},
   "outputs": [
    {
     "data": {
      "text/plain": [
       "White/Caucasian              10288\n",
       "Black or African American     3466\n",
       "Other                         1905\n",
       "NA                              64\n",
       "Name: RACE, dtype: int64"
      ]
     },
     "execution_count": 31,
     "metadata": {},
     "output_type": "execute_result"
    }
   ],
   "source": [
    "#present the distribution of variable \"RACE\"\n",
    "merge_data[\"RACE\"].value_counts()"
   ]
  },
  {
   "cell_type": "code",
   "execution_count": 32,
   "metadata": {},
   "outputs": [],
   "source": [
    "#for living status: detect the number of responses for each category\n",
    "merge_data[\"living_status\"].value_counts()\n",
    "\n",
    "#\"living_status\" contains original categories\n",
    "living_status = [1,5,4,3,2,6]\n",
    "#\"living_status0\" contains new categories\n",
    "living_status0 = [\"Married or partnered, living with partner\", \"Not married or partnered, living alone\", \"Not married or partnered, living with relative\", \"Not married or partnered, living with other unrelated adult\",\n",
    "\"Married or partnered, not living with spouse/partner\", \"NA\"]\n",
    "#recode into meaningful categories for plotting\n",
    "merge_data['living_status'] = merge_data['living_status'].replace(living_status, living_status0)"
   ]
  },
  {
   "cell_type": "code",
   "execution_count": 33,
   "metadata": {},
   "outputs": [
    {
     "data": {
      "text/plain": [
       "Married or partnered, living with partner                      9368\n",
       "Not married or partnered, living alone                         3742\n",
       "Not married or partnered, living with relative                 2215\n",
       "Not married or partnered, living with other unrelated adult     253\n",
       "Married or partnered, not living with spouse/partner             79\n",
       "NA                                                               66\n",
       "Name: living_status, dtype: int64"
      ]
     },
     "execution_count": 33,
     "metadata": {},
     "output_type": "execute_result"
    }
   ],
   "source": [
    "#present the distribution of variable \"living_status\"\n",
    "merge_data[\"living_status\"].value_counts()"
   ]
  },
  {
   "cell_type": "code",
   "execution_count": 34,
   "metadata": {},
   "outputs": [],
   "source": [
    "#for feel depressed: detect the number of responses for each category\n",
    "merge_data[\"depressed\"].value_counts()\n",
    "\n",
    "#\"depressed\" contains original categories\n",
    "depressed = [5,1,8,-8,3,9]\n",
    "#\"depressed0\" contains new categories\n",
    "depressed0 = [\"NO\", \"YES\", \"NA\", \"NA\", \"NO\", \"NA\"]\n",
    "#recode into meaningful categories for plotting\n",
    "merge_data['depressed'] = merge_data['depressed'].replace(depressed, depressed0)"
   ]
  },
  {
   "cell_type": "code",
   "execution_count": 35,
   "metadata": {},
   "outputs": [
    {
     "data": {
      "text/plain": [
       "NO     12309\n",
       "YES     2646\n",
       "NA        47\n",
       "Name: depressed, dtype: int64"
      ]
     },
     "execution_count": 35,
     "metadata": {},
     "output_type": "execute_result"
    }
   ],
   "source": [
    "#present the distribution of variable \"depressed\"\n",
    "merge_data[\"depressed\"].value_counts()"
   ]
  },
  {
   "cell_type": "code",
   "execution_count": 36,
   "metadata": {},
   "outputs": [],
   "source": [
    "#for feel lose interest: detect the number of responses for each category\n",
    "merge_data[\"lose_interest\"].value_counts()\n",
    "\n",
    "#\"lose_interest\" contains original categories\n",
    "lose_interest = [5,1,8,9,-8,3]\n",
    "#\"lose_interest0\" contains new categories\n",
    "lose_interest0 = [\"NO\", \"YES\", \"NA\", \"NA\", \"NA\", \"NO\"]\n",
    "#recode into meaningful categories for plotting\n",
    "merge_data['lose_interest'] = merge_data['lose_interest'].replace(lose_interest, lose_interest0)"
   ]
  },
  {
   "cell_type": "code",
   "execution_count": 37,
   "metadata": {},
   "outputs": [
    {
     "data": {
      "text/plain": [
       "NO     12404\n",
       "YES     1420\n",
       "NA        73\n",
       "Name: lose_interest, dtype: int64"
      ]
     },
     "execution_count": 37,
     "metadata": {},
     "output_type": "execute_result"
    }
   ],
   "source": [
    "#present the distribution of variable \"lose_interest\"\n",
    "merge_data[\"lose_interest\"].value_counts()"
   ]
  },
  {
   "cell_type": "code",
   "execution_count": 38,
   "metadata": {},
   "outputs": [],
   "source": [
    "#for sleep: detect the number of responses for each category\n",
    "merge_data[\"sleep\"].value_counts()\n",
    "\n",
    "#\"sleep\" contains original categories\n",
    "sleep = [3,2,1,8,9,-8]\n",
    "#\"sleep0\" contains new categories\n",
    "sleep0 = [\"Rarely\", \"Sometimes\", \"Most of the time\", \"NA\", \"NA\", \"NA\"]\n",
    "#recode into meaningful categories for plotting\n",
    "merge_data['sleep'] = merge_data['sleep'].replace(sleep, sleep0)"
   ]
  },
  {
   "cell_type": "code",
   "execution_count": 39,
   "metadata": {},
   "outputs": [
    {
     "data": {
      "text/plain": [
       "Rarely              7431\n",
       "Sometimes           5704\n",
       "Most of the time    2508\n",
       "NA                    80\n",
       "Name: sleep, dtype: int64"
      ]
     },
     "execution_count": 39,
     "metadata": {},
     "output_type": "execute_result"
    }
   ],
   "source": [
    "#present the distribution of variable \"sleep\"\n",
    "merge_data[\"sleep\"].value_counts()"
   ]
  },
  {
   "cell_type": "code",
   "execution_count": 40,
   "metadata": {},
   "outputs": [],
   "source": [
    "#for vigorous exercise: detect the number of responses for each category\n",
    "merge_data[\"vigorous_exercise\"].value_counts()\n",
    "\n",
    "#\"vigorous_exercise\" contains original categories\n",
    "vigorous_exercise = [4,1,2,3,7,8,-8,9]\n",
    "#\"vigorous_exercise0\" contains new categories\n",
    "vigorous_exercise0 = [\"Hardly ever OR Never\", \"More than once a week\", \"Once a week\", \"One to three times a month\", \"Every day\", \"NA\", \"NA\", \"NA\"]\n",
    "#recode into meaningful categories for plotting\n",
    "merge_data['vigorous_exercise'] = merge_data['vigorous_exercise'].replace(vigorous_exercise, vigorous_exercise0)"
   ]
  },
  {
   "cell_type": "code",
   "execution_count": 41,
   "metadata": {},
   "outputs": [
    {
     "data": {
      "text/plain": [
       "Hardly ever OR Never          8663\n",
       "More than once a week         3133\n",
       "Once a week                   1729\n",
       "One to three times a month    1555\n",
       "Every day                      534\n",
       "NA                             109\n",
       "Name: vigorous_exercise, dtype: int64"
      ]
     },
     "execution_count": 41,
     "metadata": {},
     "output_type": "execute_result"
    }
   ],
   "source": [
    "#present the distribution of variable \"vigorous_exercise\"\n",
    "merge_data[\"vigorous_exercise\"].value_counts()"
   ]
  },
  {
   "cell_type": "code",
   "execution_count": 42,
   "metadata": {},
   "outputs": [],
   "source": [
    "#for moderate exercise: detect the number of responses for each category\n",
    "merge_data[\"moderate_exercise\"].value_counts()\n",
    "\n",
    "#\"moderate_exercise\" contains original categories\n",
    "moderate_exercise = [1,4,2,3,7,8,-8,9]\n",
    "#\"moderate_exercise0\" contains new categories\n",
    "moderate_exercise0 = [\"More than once a week\", \"Hardly ever OR Never\", \"Once a week\", \"One to three times a month\", \"Every day\", \"NA\", \"NA\", \"NA\"]\n",
    "#recode into meaningful categories for plotting\n",
    "merge_data['moderate_exercise'] = merge_data['moderate_exercise'].replace(moderate_exercise, moderate_exercise0)"
   ]
  },
  {
   "cell_type": "code",
   "execution_count": 43,
   "metadata": {},
   "outputs": [
    {
     "data": {
      "text/plain": [
       "More than once a week         5944\n",
       "Hardly ever OR Never          3397\n",
       "Once a week                   2527\n",
       "One to three times a month    1912\n",
       "Every day                     1879\n",
       "NA                              64\n",
       "Name: moderate_exercise, dtype: int64"
      ]
     },
     "execution_count": 43,
     "metadata": {},
     "output_type": "execute_result"
    }
   ],
   "source": [
    "#present the distribution of variable \"moderate_exercise\"\n",
    "merge_data[\"moderate_exercise\"].value_counts()"
   ]
  },
  {
   "cell_type": "code",
   "execution_count": 44,
   "metadata": {},
   "outputs": [],
   "source": [
    "#for mild exercise: detect the number of responses for each category\n",
    "merge_data[\"mild_exercise\"].value_counts()\n",
    "\n",
    "#\"mild_exercise\" contains original categories\n",
    "mild_exercise = [1,2,7,4,3,8,-8,9]\n",
    "#\"mild_exercise0\" contains new categories\n",
    "mild_exercise0 = [\"More than once a week\", \"Once a week\", \"Every day\", \"Hardly ever OR Never\", \"One to three times a month\", \"NA\", \"NA\", \"NA\"]\n",
    "#recode into meaningful categories for plotting\n",
    "merge_data['mild_exercise'] = merge_data['mild_exercise'].replace(mild_exercise, mild_exercise0)"
   ]
  },
  {
   "cell_type": "code",
   "execution_count": 45,
   "metadata": {},
   "outputs": [
    {
     "data": {
      "text/plain": [
       "More than once a week         6581\n",
       "Once a week                   3872\n",
       "Every day                     2080\n",
       "Hardly ever OR Never          1845\n",
       "One to three times a month    1272\n",
       "NA                              73\n",
       "Name: mild_exercise, dtype: int64"
      ]
     },
     "execution_count": 45,
     "metadata": {},
     "output_type": "execute_result"
    }
   ],
   "source": [
    "#present the distribution of variable \"mild_exercise\"\n",
    "merge_data[\"mild_exercise\"].value_counts()"
   ]
  },
  {
   "cell_type": "code",
   "execution_count": 46,
   "metadata": {},
   "outputs": [
    {
     "data": {
      "text/html": [
       "<div>\n",
       "<style scoped>\n",
       "    .dataframe tbody tr th:only-of-type {\n",
       "        vertical-align: middle;\n",
       "    }\n",
       "\n",
       "    .dataframe tbody tr th {\n",
       "        vertical-align: top;\n",
       "    }\n",
       "\n",
       "    .dataframe thead th {\n",
       "        text-align: right;\n",
       "    }\n",
       "</style>\n",
       "<table border=\"1\" class=\"dataframe\">\n",
       "  <thead>\n",
       "    <tr style=\"text-align: right;\">\n",
       "      <th></th>\n",
       "      <th>HouseholdID</th>\n",
       "      <th>PersonalID</th>\n",
       "      <th>BirthYear</th>\n",
       "      <th>GENDER</th>\n",
       "      <th>RACE</th>\n",
       "      <th>living_status</th>\n",
       "      <th>depressed</th>\n",
       "      <th>lose_interest</th>\n",
       "      <th>cardiovascular</th>\n",
       "      <th>osteoporosis</th>\n",
       "      <th>alzheimer</th>\n",
       "      <th>sleep</th>\n",
       "      <th>vigorous_exercise</th>\n",
       "      <th>moderate_exercise</th>\n",
       "      <th>mild_exercise</th>\n",
       "    </tr>\n",
       "  </thead>\n",
       "  <tbody>\n",
       "    <tr>\n",
       "      <th>4015</th>\n",
       "      <td>b'113932'</td>\n",
       "      <td>b'020'</td>\n",
       "      <td>1947.0</td>\n",
       "      <td>Female</td>\n",
       "      <td>White/Caucasian</td>\n",
       "      <td>Married or partnered, living with partner</td>\n",
       "      <td>NO</td>\n",
       "      <td>NO</td>\n",
       "      <td>0.0</td>\n",
       "      <td>NaN</td>\n",
       "      <td>0.0</td>\n",
       "      <td>Most of the time</td>\n",
       "      <td>Hardly ever OR Never</td>\n",
       "      <td>More than once a week</td>\n",
       "      <td>More than once a week</td>\n",
       "    </tr>\n",
       "    <tr>\n",
       "      <th>9983</th>\n",
       "      <td>b'531956'</td>\n",
       "      <td>b'020'</td>\n",
       "      <td>1953.0</td>\n",
       "      <td>Male</td>\n",
       "      <td>Other</td>\n",
       "      <td>Married or partnered, living with partner</td>\n",
       "      <td>NO</td>\n",
       "      <td>NO</td>\n",
       "      <td>1.0</td>\n",
       "      <td>0.0</td>\n",
       "      <td>0.0</td>\n",
       "      <td>Sometimes</td>\n",
       "      <td>Once a week</td>\n",
       "      <td>More than once a week</td>\n",
       "      <td>Once a week</td>\n",
       "    </tr>\n",
       "    <tr>\n",
       "      <th>1752</th>\n",
       "      <td>b'042187'</td>\n",
       "      <td>b'040'</td>\n",
       "      <td>1942.0</td>\n",
       "      <td>Female</td>\n",
       "      <td>White/Caucasian</td>\n",
       "      <td>Not married or partnered, living alone</td>\n",
       "      <td>NO</td>\n",
       "      <td>NO</td>\n",
       "      <td>1.0</td>\n",
       "      <td>NaN</td>\n",
       "      <td>0.0</td>\n",
       "      <td>Most of the time</td>\n",
       "      <td>Hardly ever OR Never</td>\n",
       "      <td>More than once a week</td>\n",
       "      <td>More than once a week</td>\n",
       "    </tr>\n",
       "    <tr>\n",
       "      <th>3599</th>\n",
       "      <td>b'082397'</td>\n",
       "      <td>b'020'</td>\n",
       "      <td>1940.0</td>\n",
       "      <td>Male</td>\n",
       "      <td>Other</td>\n",
       "      <td>Married or partnered, living with partner</td>\n",
       "      <td>NO</td>\n",
       "      <td>NO</td>\n",
       "      <td>1.0</td>\n",
       "      <td>0.0</td>\n",
       "      <td>0.0</td>\n",
       "      <td>Rarely</td>\n",
       "      <td>More than once a week</td>\n",
       "      <td>More than once a week</td>\n",
       "      <td>More than once a week</td>\n",
       "    </tr>\n",
       "    <tr>\n",
       "      <th>2837</th>\n",
       "      <td>b'061035'</td>\n",
       "      <td>b'011'</td>\n",
       "      <td>1938.0</td>\n",
       "      <td>Male</td>\n",
       "      <td>White/Caucasian</td>\n",
       "      <td>Married or partnered, living with partner</td>\n",
       "      <td>YES</td>\n",
       "      <td>YES</td>\n",
       "      <td>1.0</td>\n",
       "      <td>0.0</td>\n",
       "      <td>0.0</td>\n",
       "      <td>Most of the time</td>\n",
       "      <td>Hardly ever OR Never</td>\n",
       "      <td>Hardly ever OR Never</td>\n",
       "      <td>Once a week</td>\n",
       "    </tr>\n",
       "  </tbody>\n",
       "</table>\n",
       "</div>"
      ],
      "text/plain": [
       "     HouseholdID PersonalID  BirthYear  GENDER             RACE  \\\n",
       "4015   b'113932'     b'020'     1947.0  Female  White/Caucasian   \n",
       "9983   b'531956'     b'020'     1953.0    Male            Other   \n",
       "1752   b'042187'     b'040'     1942.0  Female  White/Caucasian   \n",
       "3599   b'082397'     b'020'     1940.0    Male            Other   \n",
       "2837   b'061035'     b'011'     1938.0    Male  White/Caucasian   \n",
       "\n",
       "                                  living_status depressed lose_interest  \\\n",
       "4015  Married or partnered, living with partner        NO            NO   \n",
       "9983  Married or partnered, living with partner        NO            NO   \n",
       "1752     Not married or partnered, living alone        NO            NO   \n",
       "3599  Married or partnered, living with partner        NO            NO   \n",
       "2837  Married or partnered, living with partner       YES           YES   \n",
       "\n",
       "     cardiovascular osteoporosis alzheimer             sleep  \\\n",
       "4015            0.0          NaN       0.0  Most of the time   \n",
       "9983            1.0          0.0       0.0         Sometimes   \n",
       "1752            1.0          NaN       0.0  Most of the time   \n",
       "3599            1.0          0.0       0.0            Rarely   \n",
       "2837            1.0          0.0       0.0  Most of the time   \n",
       "\n",
       "          vigorous_exercise      moderate_exercise          mild_exercise  \n",
       "4015   Hardly ever OR Never  More than once a week  More than once a week  \n",
       "9983            Once a week  More than once a week            Once a week  \n",
       "1752   Hardly ever OR Never  More than once a week  More than once a week  \n",
       "3599  More than once a week  More than once a week  More than once a week  \n",
       "2837   Hardly ever OR Never   Hardly ever OR Never            Once a week  "
      ]
     },
     "execution_count": 46,
     "metadata": {},
     "output_type": "execute_result"
    }
   ],
   "source": [
    "#overview the final dataset\n",
    "merge_data.sample(5)"
   ]
  },
  {
   "cell_type": "code",
   "execution_count": 47,
   "metadata": {},
   "outputs": [],
   "source": [
    "#load package\n",
    "import openpyxl as op\n",
    "\n",
    "#save dataset as .xlsx file for plotting in Tableau\n",
    "#merge_data.to_excel('Data.xlsx', index = False)"
   ]
  },
  {
   "attachments": {},
   "cell_type": "markdown",
   "metadata": {},
   "source": [
    "#### Data Overview for Dataset 2: Longitudinal Dataset"
   ]
  },
  {
   "cell_type": "code",
   "execution_count": 48,
   "metadata": {},
   "outputs": [],
   "source": [
    "# Importing the required libraries\n",
    "import pandas as pd\n",
    "pd.plotting.register_matplotlib_converters()\n",
    "import matplotlib.pyplot as plt\n",
    "%matplotlib inline\n",
    "import seaborn as sns\n",
    "from unicodedata import numeric"
   ]
  },
  {
   "cell_type": "code",
   "execution_count": 49,
   "metadata": {},
   "outputs": [],
   "source": [
    "# read all datasets across 2010 to 2020\n",
    "C2020 = pd.read_sas(\"h20c_r.sas7bdat\")\n",
    "C2018 = pd.read_sas(\"h18c_r.sas7bdat\")\n",
    "C2016 = pd.read_spss(\"H16C_R.sav\")\n",
    "C2014 = pd.read_spss(\"H14C_R.sav\")\n",
    "C2012 = pd.read_spss(\"H12C_R.sav\")\n",
    "C2010 = pd.read_spss(\"H10C_R.sav\")"
   ]
  },
  {
   "cell_type": "code",
   "execution_count": 50,
   "metadata": {},
   "outputs": [],
   "source": [
    "# read dataset of 2020\n",
    "data = pd.read_excel(\"Data998.xlsx\")"
   ]
  },
  {
   "cell_type": "code",
   "execution_count": 51,
   "metadata": {},
   "outputs": [
    {
     "data": {
      "text/html": [
       "<div>\n",
       "<style scoped>\n",
       "    .dataframe tbody tr th:only-of-type {\n",
       "        vertical-align: middle;\n",
       "    }\n",
       "\n",
       "    .dataframe tbody tr th {\n",
       "        vertical-align: top;\n",
       "    }\n",
       "\n",
       "    .dataframe thead th {\n",
       "        text-align: right;\n",
       "    }\n",
       "</style>\n",
       "<table border=\"1\" class=\"dataframe\">\n",
       "  <thead>\n",
       "    <tr style=\"text-align: right;\">\n",
       "      <th></th>\n",
       "      <th>cardiovascular</th>\n",
       "      <th>osteoporosis</th>\n",
       "      <th>alzheimer</th>\n",
       "      <th>sleep</th>\n",
       "      <th>vigorous_exercise</th>\n",
       "      <th>moderate_exercise</th>\n",
       "      <th>mild_exercise</th>\n",
       "      <th>HHID</th>\n",
       "      <th>year</th>\n",
       "    </tr>\n",
       "  </thead>\n",
       "  <tbody>\n",
       "    <tr>\n",
       "      <th>9204</th>\n",
       "      <td>5.0</td>\n",
       "      <td>5.0</td>\n",
       "      <td>5.0</td>\n",
       "      <td>10.0</td>\n",
       "      <td>1.0</td>\n",
       "      <td>1.0</td>\n",
       "      <td>2.0</td>\n",
       "      <td>b'526689'</td>\n",
       "      <td>2020</td>\n",
       "    </tr>\n",
       "    <tr>\n",
       "      <th>7139</th>\n",
       "      <td>1.0</td>\n",
       "      <td>5.0</td>\n",
       "      <td>5.0</td>\n",
       "      <td>NaN</td>\n",
       "      <td>4.0</td>\n",
       "      <td>1.0</td>\n",
       "      <td>7.0</td>\n",
       "      <td>b'501649'</td>\n",
       "      <td>2020</td>\n",
       "    </tr>\n",
       "    <tr>\n",
       "      <th>5817</th>\n",
       "      <td>5.0</td>\n",
       "      <td>5.0</td>\n",
       "      <td>5.0</td>\n",
       "      <td>NaN</td>\n",
       "      <td>2.0</td>\n",
       "      <td>7.0</td>\n",
       "      <td>3.0</td>\n",
       "      <td>b'213388'</td>\n",
       "      <td>2020</td>\n",
       "    </tr>\n",
       "    <tr>\n",
       "      <th>114</th>\n",
       "      <td>1.0</td>\n",
       "      <td>5.0</td>\n",
       "      <td>5.0</td>\n",
       "      <td>NaN</td>\n",
       "      <td>4.0</td>\n",
       "      <td>2.0</td>\n",
       "      <td>1.0</td>\n",
       "      <td>b'012276'</td>\n",
       "      <td>2020</td>\n",
       "    </tr>\n",
       "    <tr>\n",
       "      <th>10089</th>\n",
       "      <td>1.0</td>\n",
       "      <td>5.0</td>\n",
       "      <td>5.0</td>\n",
       "      <td>10.0</td>\n",
       "      <td>1.0</td>\n",
       "      <td>1.0</td>\n",
       "      <td>1.0</td>\n",
       "      <td>b'533044'</td>\n",
       "      <td>2020</td>\n",
       "    </tr>\n",
       "  </tbody>\n",
       "</table>\n",
       "</div>"
      ],
      "text/plain": [
       "       cardiovascular  osteoporosis  alzheimer  sleep  vigorous_exercise  \\\n",
       "9204              5.0           5.0        5.0   10.0                1.0   \n",
       "7139              1.0           5.0        5.0    NaN                4.0   \n",
       "5817              5.0           5.0        5.0    NaN                2.0   \n",
       "114               1.0           5.0        5.0    NaN                4.0   \n",
       "10089             1.0           5.0        5.0   10.0                1.0   \n",
       "\n",
       "       moderate_exercise  mild_exercise       HHID  year  \n",
       "9204                 1.0            2.0  b'526689'  2020  \n",
       "7139                 1.0            7.0  b'501649'  2020  \n",
       "5817                 7.0            3.0  b'213388'  2020  \n",
       "114                  2.0            1.0  b'012276'  2020  \n",
       "10089                1.0            1.0  b'533044'  2020  "
      ]
     },
     "execution_count": 51,
     "metadata": {},
     "output_type": "execute_result"
    }
   ],
   "source": [
    "# subset columns from 2020 HRS Section C. They are 'cardiovascular',\"osteoporosis\", \"alzheimer\", \n",
    "# \"sleep\", \"vigorous_exercise\", \"moderate exercise\", and \"mild exercise\"\n",
    "df_C2020 = C2020[[\"RC036\",\"RC280\", \"RC272\", \"RC305\", \"RC223\", \"RC224\", \"RC225\",\"HHID\"]]\n",
    "# rename the column names to be more meaningful\n",
    "df_C2020 = df_C2020.rename(columns={'RC036': 'cardiovascular', \"RC280\":\"osteoporosis\", \"RC272\":\"alzheimer\", \n",
    "\"RC305\":\"sleep\", \"RC223\":\"vigorous_exercise\", \"RC224\":\"moderate_exercise\", \"RC225\":\"mild_exercise\"}, index={'ONE': 'Row_1'})\n",
    "# add a column to indicate survey year\n",
    "df_C2020[\"year\"] = 2020\n",
    "df_C2020.sample(5)"
   ]
  },
  {
   "cell_type": "markdown",
   "metadata": {},
   "source": [
    "df_C2018.dtypes"
   ]
  },
  {
   "cell_type": "code",
   "execution_count": 52,
   "metadata": {},
   "outputs": [
    {
     "data": {
      "text/plain": [
       "cardiovascular       float64\n",
       "osteoporosis         float64\n",
       "alzheimer            float64\n",
       "sleep                float64\n",
       "vigorous_exercise    float64\n",
       "moderate_exercise    float64\n",
       "mild_exercise        float64\n",
       "HHID                  object\n",
       "year                   int64\n",
       "dtype: object"
      ]
     },
     "execution_count": 52,
     "metadata": {},
     "output_type": "execute_result"
    }
   ],
   "source": [
    "df_C2020.dtypes"
   ]
  },
  {
   "cell_type": "code",
   "execution_count": 53,
   "metadata": {},
   "outputs": [],
   "source": [
    "# convert three diseases variable and three exercise variables to categorical variables\n",
    "df_C2020[\"cardiovascular\"] = pd.Categorical(df_C2020[\"cardiovascular\"])\n",
    "df_C2020[\"osteoporosis\"] = pd.Categorical(df_C2020[\"osteoporosis\"])\n",
    "df_C2020[\"alzheimer\"] = pd.Categorical(df_C2020[\"alzheimer\"])\n",
    "df_C2020[\"vigorous_exercise\"] = pd.Categorical(df_C2020[\"vigorous_exercise\"])\n",
    "df_C2020[\"moderate_exercise\"] = pd.Categorical(df_C2020[\"moderate_exercise\"])\n",
    "df_C2020[\"mild_exercise\"] = pd.Categorical(df_C2020[\"mild_exercise\"])"
   ]
  },
  {
   "cell_type": "code",
   "execution_count": 54,
   "metadata": {},
   "outputs": [
    {
     "data": {
      "text/html": [
       "<div>\n",
       "<style scoped>\n",
       "    .dataframe tbody tr th:only-of-type {\n",
       "        vertical-align: middle;\n",
       "    }\n",
       "\n",
       "    .dataframe tbody tr th {\n",
       "        vertical-align: top;\n",
       "    }\n",
       "\n",
       "    .dataframe thead th {\n",
       "        text-align: right;\n",
       "    }\n",
       "</style>\n",
       "<table border=\"1\" class=\"dataframe\">\n",
       "  <thead>\n",
       "    <tr style=\"text-align: right;\">\n",
       "      <th></th>\n",
       "      <th>sleep</th>\n",
       "      <th>year</th>\n",
       "    </tr>\n",
       "  </thead>\n",
       "  <tbody>\n",
       "    <tr>\n",
       "      <th>count</th>\n",
       "      <td>433.000000</td>\n",
       "      <td>15723.0</td>\n",
       "    </tr>\n",
       "    <tr>\n",
       "      <th>mean</th>\n",
       "      <td>11.127021</td>\n",
       "      <td>2020.0</td>\n",
       "    </tr>\n",
       "    <tr>\n",
       "      <th>std</th>\n",
       "      <td>11.410685</td>\n",
       "      <td>0.0</td>\n",
       "    </tr>\n",
       "    <tr>\n",
       "      <th>min</th>\n",
       "      <td>-8.000000</td>\n",
       "      <td>2020.0</td>\n",
       "    </tr>\n",
       "    <tr>\n",
       "      <th>25%</th>\n",
       "      <td>9.000000</td>\n",
       "      <td>2020.0</td>\n",
       "    </tr>\n",
       "    <tr>\n",
       "      <th>50%</th>\n",
       "      <td>10.000000</td>\n",
       "      <td>2020.0</td>\n",
       "    </tr>\n",
       "    <tr>\n",
       "      <th>75%</th>\n",
       "      <td>11.000000</td>\n",
       "      <td>2020.0</td>\n",
       "    </tr>\n",
       "    <tr>\n",
       "      <th>max</th>\n",
       "      <td>99.000000</td>\n",
       "      <td>2020.0</td>\n",
       "    </tr>\n",
       "  </tbody>\n",
       "</table>\n",
       "</div>"
      ],
      "text/plain": [
       "            sleep     year\n",
       "count  433.000000  15723.0\n",
       "mean    11.127021   2020.0\n",
       "std     11.410685      0.0\n",
       "min     -8.000000   2020.0\n",
       "25%      9.000000   2020.0\n",
       "50%     10.000000   2020.0\n",
       "75%     11.000000   2020.0\n",
       "max     99.000000   2020.0"
      ]
     },
     "execution_count": 54,
     "metadata": {},
     "output_type": "execute_result"
    }
   ],
   "source": [
    "df_C2020.describe()"
   ]
  },
  {
   "cell_type": "code",
   "execution_count": 55,
   "metadata": {},
   "outputs": [
    {
     "data": {
      "text/plain": [
       "cardiovascular       False\n",
       "osteoporosis         False\n",
       "alzheimer            False\n",
       "sleep                False\n",
       "vigorous_exercise    False\n",
       "moderate_exercise    False\n",
       "mild_exercise        False\n",
       "HHID                 False\n",
       "year                 False\n",
       "dtype: bool"
      ]
     },
     "execution_count": 55,
     "metadata": {},
     "output_type": "execute_result"
    }
   ],
   "source": [
    "# check if there are NaN values in 2020 HRS Section C dataset\n",
    "df_C2020.isna().all(axis=0)"
   ]
  },
  {
   "cell_type": "code",
   "execution_count": 56,
   "metadata": {},
   "outputs": [
    {
     "data": {
      "text/plain": [
       "(15723, 260)"
      ]
     },
     "execution_count": 56,
     "metadata": {},
     "output_type": "execute_result"
    }
   ],
   "source": [
    "# The number of respondents\n",
    "C2020.shape\n"
   ]
  },
  {
   "cell_type": "code",
   "execution_count": 57,
   "metadata": {},
   "outputs": [
    {
     "data": {
      "text/html": [
       "<div>\n",
       "<style scoped>\n",
       "    .dataframe tbody tr th:only-of-type {\n",
       "        vertical-align: middle;\n",
       "    }\n",
       "\n",
       "    .dataframe tbody tr th {\n",
       "        vertical-align: top;\n",
       "    }\n",
       "\n",
       "    .dataframe thead th {\n",
       "        text-align: right;\n",
       "    }\n",
       "</style>\n",
       "<table border=\"1\" class=\"dataframe\">\n",
       "  <thead>\n",
       "    <tr style=\"text-align: right;\">\n",
       "      <th></th>\n",
       "      <th>sleep</th>\n",
       "      <th>year</th>\n",
       "    </tr>\n",
       "  </thead>\n",
       "  <tbody>\n",
       "    <tr>\n",
       "      <th>count</th>\n",
       "      <td>433.000000</td>\n",
       "      <td>15723.0</td>\n",
       "    </tr>\n",
       "    <tr>\n",
       "      <th>mean</th>\n",
       "      <td>11.127021</td>\n",
       "      <td>2020.0</td>\n",
       "    </tr>\n",
       "    <tr>\n",
       "      <th>std</th>\n",
       "      <td>11.410685</td>\n",
       "      <td>0.0</td>\n",
       "    </tr>\n",
       "    <tr>\n",
       "      <th>min</th>\n",
       "      <td>-8.000000</td>\n",
       "      <td>2020.0</td>\n",
       "    </tr>\n",
       "    <tr>\n",
       "      <th>25%</th>\n",
       "      <td>9.000000</td>\n",
       "      <td>2020.0</td>\n",
       "    </tr>\n",
       "    <tr>\n",
       "      <th>50%</th>\n",
       "      <td>10.000000</td>\n",
       "      <td>2020.0</td>\n",
       "    </tr>\n",
       "    <tr>\n",
       "      <th>75%</th>\n",
       "      <td>11.000000</td>\n",
       "      <td>2020.0</td>\n",
       "    </tr>\n",
       "    <tr>\n",
       "      <th>max</th>\n",
       "      <td>99.000000</td>\n",
       "      <td>2020.0</td>\n",
       "    </tr>\n",
       "  </tbody>\n",
       "</table>\n",
       "</div>"
      ],
      "text/plain": [
       "            sleep     year\n",
       "count  433.000000  15723.0\n",
       "mean    11.127021   2020.0\n",
       "std     11.410685      0.0\n",
       "min     -8.000000   2020.0\n",
       "25%      9.000000   2020.0\n",
       "50%     10.000000   2020.0\n",
       "75%     11.000000   2020.0\n",
       "max     99.000000   2020.0"
      ]
     },
     "execution_count": 57,
     "metadata": {},
     "output_type": "execute_result"
    }
   ],
   "source": [
    "# The description of the dataset\n",
    "df_C2020.describe()"
   ]
  },
  {
   "cell_type": "code",
   "execution_count": 58,
   "metadata": {},
   "outputs": [
    {
     "data": {
      "text/html": [
       "<div>\n",
       "<style scoped>\n",
       "    .dataframe tbody tr th:only-of-type {\n",
       "        vertical-align: middle;\n",
       "    }\n",
       "\n",
       "    .dataframe tbody tr th {\n",
       "        vertical-align: top;\n",
       "    }\n",
       "\n",
       "    .dataframe thead th {\n",
       "        text-align: right;\n",
       "    }\n",
       "</style>\n",
       "<table border=\"1\" class=\"dataframe\">\n",
       "  <thead>\n",
       "    <tr style=\"text-align: right;\">\n",
       "      <th></th>\n",
       "      <th>cardiovascular</th>\n",
       "      <th>osteoporosis</th>\n",
       "      <th>alzheimer</th>\n",
       "      <th>year</th>\n",
       "    </tr>\n",
       "  </thead>\n",
       "  <tbody>\n",
       "    <tr>\n",
       "      <th>15817</th>\n",
       "      <td>5.0</td>\n",
       "      <td>5.0</td>\n",
       "      <td>5.0</td>\n",
       "      <td>2018</td>\n",
       "    </tr>\n",
       "    <tr>\n",
       "      <th>14444</th>\n",
       "      <td>5.0</td>\n",
       "      <td>5.0</td>\n",
       "      <td>5.0</td>\n",
       "      <td>2018</td>\n",
       "    </tr>\n",
       "    <tr>\n",
       "      <th>11276</th>\n",
       "      <td>5.0</td>\n",
       "      <td>5.0</td>\n",
       "      <td>5.0</td>\n",
       "      <td>2018</td>\n",
       "    </tr>\n",
       "    <tr>\n",
       "      <th>9714</th>\n",
       "      <td>5.0</td>\n",
       "      <td>5.0</td>\n",
       "      <td>5.0</td>\n",
       "      <td>2018</td>\n",
       "    </tr>\n",
       "    <tr>\n",
       "      <th>5889</th>\n",
       "      <td>5.0</td>\n",
       "      <td>5.0</td>\n",
       "      <td>5.0</td>\n",
       "      <td>2018</td>\n",
       "    </tr>\n",
       "  </tbody>\n",
       "</table>\n",
       "</div>"
      ],
      "text/plain": [
       "       cardiovascular  osteoporosis  alzheimer  year\n",
       "15817             5.0           5.0        5.0  2018\n",
       "14444             5.0           5.0        5.0  2018\n",
       "11276             5.0           5.0        5.0  2018\n",
       "9714              5.0           5.0        5.0  2018\n",
       "5889              5.0           5.0        5.0  2018"
      ]
     },
     "execution_count": 58,
     "metadata": {},
     "output_type": "execute_result"
    }
   ],
   "source": [
    "# subset columns from 2018 HRS Section C. They are 'cardiovascular',\"osteoporosis\", \"alzheimer\", \n",
    "# \"sleep\", \"vigorous_exercise\", \"moderate exercise\", and \"mild exercise\"\n",
    "df_C2018 = C2018[[\"QC036\",\"QC280\", \"QC272\"]]\n",
    "# rename the column names to be more meaningful\n",
    "df_C2018 = df_C2018.rename(columns={'QC036': 'cardiovascular', \"QC280\":\"osteoporosis\", \"QC272\":\"alzheimer\"}, index={'ONE': 'Row_1'})\n",
    "# add a column to indicate survey year\n",
    "df_C2018[\"year\"] = 2018\n",
    "df_C2018.sample(5)"
   ]
  },
  {
   "cell_type": "code",
   "execution_count": 59,
   "metadata": {},
   "outputs": [
    {
     "data": {
      "text/plain": [
       "(17146, 4)"
      ]
     },
     "execution_count": 59,
     "metadata": {},
     "output_type": "execute_result"
    }
   ],
   "source": [
    "# The number of respondents\n",
    "df_C2018.shape"
   ]
  },
  {
   "cell_type": "code",
   "execution_count": 60,
   "metadata": {},
   "outputs": [
    {
     "data": {
      "text/html": [
       "<div>\n",
       "<style scoped>\n",
       "    .dataframe tbody tr th:only-of-type {\n",
       "        vertical-align: middle;\n",
       "    }\n",
       "\n",
       "    .dataframe tbody tr th {\n",
       "        vertical-align: top;\n",
       "    }\n",
       "\n",
       "    .dataframe thead th {\n",
       "        text-align: right;\n",
       "    }\n",
       "</style>\n",
       "<table border=\"1\" class=\"dataframe\">\n",
       "  <thead>\n",
       "    <tr style=\"text-align: right;\">\n",
       "      <th></th>\n",
       "      <th>cardiovascular</th>\n",
       "      <th>osteoporosis</th>\n",
       "      <th>alzheimer</th>\n",
       "      <th>year</th>\n",
       "    </tr>\n",
       "  </thead>\n",
       "  <tbody>\n",
       "    <tr>\n",
       "      <th>1966</th>\n",
       "      <td>5.0</td>\n",
       "      <td>5.0</td>\n",
       "      <td>5.0</td>\n",
       "      <td>2016</td>\n",
       "    </tr>\n",
       "    <tr>\n",
       "      <th>19834</th>\n",
       "      <td>5.0</td>\n",
       "      <td>5.0</td>\n",
       "      <td>5.0</td>\n",
       "      <td>2016</td>\n",
       "    </tr>\n",
       "    <tr>\n",
       "      <th>6963</th>\n",
       "      <td>5.0</td>\n",
       "      <td>5.0</td>\n",
       "      <td>5.0</td>\n",
       "      <td>2016</td>\n",
       "    </tr>\n",
       "    <tr>\n",
       "      <th>15127</th>\n",
       "      <td>5.0</td>\n",
       "      <td>5.0</td>\n",
       "      <td>5.0</td>\n",
       "      <td>2016</td>\n",
       "    </tr>\n",
       "    <tr>\n",
       "      <th>12452</th>\n",
       "      <td>5.0</td>\n",
       "      <td>5.0</td>\n",
       "      <td>5.0</td>\n",
       "      <td>2016</td>\n",
       "    </tr>\n",
       "  </tbody>\n",
       "</table>\n",
       "</div>"
      ],
      "text/plain": [
       "       cardiovascular  osteoporosis  alzheimer  year\n",
       "1966              5.0           5.0        5.0  2016\n",
       "19834             5.0           5.0        5.0  2016\n",
       "6963              5.0           5.0        5.0  2016\n",
       "15127             5.0           5.0        5.0  2016\n",
       "12452             5.0           5.0        5.0  2016"
      ]
     },
     "execution_count": 60,
     "metadata": {},
     "output_type": "execute_result"
    }
   ],
   "source": [
    "# subset columns from 2016 HRS Section C. They are 'cardiovascular',\"osteoporosis\", \"alzheimer\", \n",
    "# \"sleep\", \"vigorous_exercise\", \"moderate exercise\", and \"mild exercise\"\n",
    "df_C2016 = C2016[[\"PC036\",\"PC280\", \"PC272\"]]\n",
    "# rename the column names to be more meaningful\n",
    "df_C2016 = df_C2016.rename(columns={'PC036': 'cardiovascular', \"PC280\":\"osteoporosis\", \"PC272\":\"alzheimer\"}, index={'ONE': 'Row_1'})\n",
    "# add a column to indicate survey year\n",
    "df_C2016[\"year\"] = 2016\n",
    "df_C2016.sample(5)"
   ]
  },
  {
   "cell_type": "code",
   "execution_count": 61,
   "metadata": {},
   "outputs": [
    {
     "data": {
      "text/plain": [
       "(20912, 4)"
      ]
     },
     "execution_count": 61,
     "metadata": {},
     "output_type": "execute_result"
    }
   ],
   "source": [
    "# The number of respondents\n",
    "df_C2016.shape"
   ]
  },
  {
   "cell_type": "code",
   "execution_count": 62,
   "metadata": {},
   "outputs": [
    {
     "data": {
      "text/html": [
       "<div>\n",
       "<style scoped>\n",
       "    .dataframe tbody tr th:only-of-type {\n",
       "        vertical-align: middle;\n",
       "    }\n",
       "\n",
       "    .dataframe tbody tr th {\n",
       "        vertical-align: top;\n",
       "    }\n",
       "\n",
       "    .dataframe thead th {\n",
       "        text-align: right;\n",
       "    }\n",
       "</style>\n",
       "<table border=\"1\" class=\"dataframe\">\n",
       "  <thead>\n",
       "    <tr style=\"text-align: right;\">\n",
       "      <th></th>\n",
       "      <th>cardiovascular</th>\n",
       "      <th>osteoporosis</th>\n",
       "      <th>alzheimer</th>\n",
       "      <th>year</th>\n",
       "    </tr>\n",
       "  </thead>\n",
       "  <tbody>\n",
       "    <tr>\n",
       "      <th>13997</th>\n",
       "      <td>5.0</td>\n",
       "      <td>5.0</td>\n",
       "      <td>5.0</td>\n",
       "      <td>2014</td>\n",
       "    </tr>\n",
       "    <tr>\n",
       "      <th>16369</th>\n",
       "      <td>5.0</td>\n",
       "      <td>5.0</td>\n",
       "      <td>5.0</td>\n",
       "      <td>2014</td>\n",
       "    </tr>\n",
       "    <tr>\n",
       "      <th>6288</th>\n",
       "      <td>1.0</td>\n",
       "      <td>5.0</td>\n",
       "      <td>5.0</td>\n",
       "      <td>2014</td>\n",
       "    </tr>\n",
       "    <tr>\n",
       "      <th>16854</th>\n",
       "      <td>5.0</td>\n",
       "      <td>5.0</td>\n",
       "      <td>5.0</td>\n",
       "      <td>2014</td>\n",
       "    </tr>\n",
       "    <tr>\n",
       "      <th>1648</th>\n",
       "      <td>5.0</td>\n",
       "      <td>1.0</td>\n",
       "      <td>5.0</td>\n",
       "      <td>2014</td>\n",
       "    </tr>\n",
       "  </tbody>\n",
       "</table>\n",
       "</div>"
      ],
      "text/plain": [
       "       cardiovascular  osteoporosis  alzheimer  year\n",
       "13997             5.0           5.0        5.0  2014\n",
       "16369             5.0           5.0        5.0  2014\n",
       "6288              1.0           5.0        5.0  2014\n",
       "16854             5.0           5.0        5.0  2014\n",
       "1648              5.0           1.0        5.0  2014"
      ]
     },
     "execution_count": 62,
     "metadata": {},
     "output_type": "execute_result"
    }
   ],
   "source": [
    "# subset columns from 2014 HRS Section C. They are 'cardiovascular',\"osteoporosis\", \"alzheimer\", \n",
    "# \"sleep\", \"vigorous_exercise\", \"moderate exercise\", and \"mild exercise\"\n",
    "df_C2014 = C2014[[\"OC036\",\"OC280\", \"OC272\"]]\n",
    "# rename the column names to be more meaningful\n",
    "df_C2014 = df_C2014.rename(columns={'OC036': 'cardiovascular', \"OC280\":\"osteoporosis\", \"OC272\":\"alzheimer\"}, index={'ONE': 'Row_1'})\n",
    "# add a column to indicate survey year\n",
    "df_C2014[\"year\"] = 2014\n",
    "df_C2014.sample(5)"
   ]
  },
  {
   "cell_type": "code",
   "execution_count": 63,
   "metadata": {},
   "outputs": [
    {
     "data": {
      "text/plain": [
       "(18747, 4)"
      ]
     },
     "execution_count": 63,
     "metadata": {},
     "output_type": "execute_result"
    }
   ],
   "source": [
    "# The number of respondents\n",
    "df_C2014.shape"
   ]
  },
  {
   "cell_type": "code",
   "execution_count": 64,
   "metadata": {},
   "outputs": [
    {
     "data": {
      "text/html": [
       "<div>\n",
       "<style scoped>\n",
       "    .dataframe tbody tr th:only-of-type {\n",
       "        vertical-align: middle;\n",
       "    }\n",
       "\n",
       "    .dataframe tbody tr th {\n",
       "        vertical-align: top;\n",
       "    }\n",
       "\n",
       "    .dataframe thead th {\n",
       "        text-align: right;\n",
       "    }\n",
       "</style>\n",
       "<table border=\"1\" class=\"dataframe\">\n",
       "  <thead>\n",
       "    <tr style=\"text-align: right;\">\n",
       "      <th></th>\n",
       "      <th>cardiovascular</th>\n",
       "      <th>osteoporosis</th>\n",
       "      <th>alzheimer</th>\n",
       "      <th>year</th>\n",
       "    </tr>\n",
       "  </thead>\n",
       "  <tbody>\n",
       "    <tr>\n",
       "      <th>1873</th>\n",
       "      <td>5.0</td>\n",
       "      <td>5.0</td>\n",
       "      <td>5.0</td>\n",
       "      <td>2012</td>\n",
       "    </tr>\n",
       "    <tr>\n",
       "      <th>7327</th>\n",
       "      <td>5.0</td>\n",
       "      <td>1.0</td>\n",
       "      <td>5.0</td>\n",
       "      <td>2012</td>\n",
       "    </tr>\n",
       "    <tr>\n",
       "      <th>3894</th>\n",
       "      <td>4.0</td>\n",
       "      <td>5.0</td>\n",
       "      <td>5.0</td>\n",
       "      <td>2012</td>\n",
       "    </tr>\n",
       "    <tr>\n",
       "      <th>1823</th>\n",
       "      <td>5.0</td>\n",
       "      <td>5.0</td>\n",
       "      <td>5.0</td>\n",
       "      <td>2012</td>\n",
       "    </tr>\n",
       "    <tr>\n",
       "      <th>3363</th>\n",
       "      <td>5.0</td>\n",
       "      <td>5.0</td>\n",
       "      <td>5.0</td>\n",
       "      <td>2012</td>\n",
       "    </tr>\n",
       "  </tbody>\n",
       "</table>\n",
       "</div>"
      ],
      "text/plain": [
       "      cardiovascular  osteoporosis  alzheimer  year\n",
       "1873             5.0           5.0        5.0  2012\n",
       "7327             5.0           1.0        5.0  2012\n",
       "3894             4.0           5.0        5.0  2012\n",
       "1823             5.0           5.0        5.0  2012\n",
       "3363             5.0           5.0        5.0  2012"
      ]
     },
     "execution_count": 64,
     "metadata": {},
     "output_type": "execute_result"
    }
   ],
   "source": [
    "# subset columns from 2012 HRS Section C. They are 'cardiovascular',\"osteoporosis\", \"alzheimer\", \n",
    "# \"sleep\", \"vigorous_exercise\", \"moderate exercise\", and \"mild exercise\"\n",
    "df_C2012 = C2012[[\"NC036\",\"NC280\", \"NC272\"]]\n",
    "# rename the column names to be more meaningful\n",
    "df_C2012 = df_C2012.rename(columns={'NC036': 'cardiovascular', \"NC280\":\"osteoporosis\", \"NC272\":\"alzheimer\"}, index={'ONE': 'Row_1'})\n",
    "# add a column to indicate survey year\n",
    "df_C2012[\"year\"] = 2012\n",
    "df_C2012.sample(5)"
   ]
  },
  {
   "cell_type": "code",
   "execution_count": 65,
   "metadata": {},
   "outputs": [
    {
     "data": {
      "text/plain": [
       "(20554, 4)"
      ]
     },
     "execution_count": 65,
     "metadata": {},
     "output_type": "execute_result"
    }
   ],
   "source": [
    "# The number of respondents\n",
    "df_C2012.shape"
   ]
  },
  {
   "cell_type": "code",
   "execution_count": 66,
   "metadata": {},
   "outputs": [
    {
     "data": {
      "text/html": [
       "<div>\n",
       "<style scoped>\n",
       "    .dataframe tbody tr th:only-of-type {\n",
       "        vertical-align: middle;\n",
       "    }\n",
       "\n",
       "    .dataframe tbody tr th {\n",
       "        vertical-align: top;\n",
       "    }\n",
       "\n",
       "    .dataframe thead th {\n",
       "        text-align: right;\n",
       "    }\n",
       "</style>\n",
       "<table border=\"1\" class=\"dataframe\">\n",
       "  <thead>\n",
       "    <tr style=\"text-align: right;\">\n",
       "      <th></th>\n",
       "      <th>cardiovascular</th>\n",
       "      <th>alzheimer</th>\n",
       "      <th>osteoporosis</th>\n",
       "      <th>year</th>\n",
       "    </tr>\n",
       "  </thead>\n",
       "  <tbody>\n",
       "    <tr>\n",
       "      <th>13653</th>\n",
       "      <td>5.0</td>\n",
       "      <td>5.0</td>\n",
       "      <td></td>\n",
       "      <td>2010</td>\n",
       "    </tr>\n",
       "    <tr>\n",
       "      <th>1784</th>\n",
       "      <td>5.0</td>\n",
       "      <td>5.0</td>\n",
       "      <td></td>\n",
       "      <td>2010</td>\n",
       "    </tr>\n",
       "    <tr>\n",
       "      <th>6660</th>\n",
       "      <td>1.0</td>\n",
       "      <td>5.0</td>\n",
       "      <td></td>\n",
       "      <td>2010</td>\n",
       "    </tr>\n",
       "    <tr>\n",
       "      <th>7936</th>\n",
       "      <td>5.0</td>\n",
       "      <td>5.0</td>\n",
       "      <td></td>\n",
       "      <td>2010</td>\n",
       "    </tr>\n",
       "    <tr>\n",
       "      <th>21144</th>\n",
       "      <td>5.0</td>\n",
       "      <td>5.0</td>\n",
       "      <td></td>\n",
       "      <td>2010</td>\n",
       "    </tr>\n",
       "  </tbody>\n",
       "</table>\n",
       "</div>"
      ],
      "text/plain": [
       "       cardiovascular  alzheimer osteoporosis  year\n",
       "13653             5.0        5.0               2010\n",
       "1784              5.0        5.0               2010\n",
       "6660              1.0        5.0               2010\n",
       "7936              5.0        5.0               2010\n",
       "21144             5.0        5.0               2010"
      ]
     },
     "execution_count": 66,
     "metadata": {},
     "output_type": "execute_result"
    }
   ],
   "source": [
    "# subset columns from 2010 HRS Section C. They are 'cardiovascular',\"alzheimer\", \n",
    "# \"osteoporosis\" is not exist in 2010 HRS survey\n",
    "df_C2010 = C2010[[\"MC036\", \"MC272\"]]\n",
    "# rename the column names to be more meaningful\n",
    "df_C2010 = df_C2010.rename(columns={'MC036': 'cardiovascular', \"MC272\":\"alzheimer\"}, index={'ONE': 'Row_1'})\n",
    "# add a blank column to indicate \"osteoporosis\"\n",
    "df_C2010[\"osteoporosis\"] = \"\"\n",
    "# add a column to indicate survey year\n",
    "df_C2010[\"year\"] = 2010\n",
    "df_C2010.sample(5)"
   ]
  },
  {
   "cell_type": "code",
   "execution_count": 67,
   "metadata": {},
   "outputs": [
    {
     "data": {
      "text/plain": [
       "(22034, 4)"
      ]
     },
     "execution_count": 67,
     "metadata": {},
     "output_type": "execute_result"
    }
   ],
   "source": [
    "# The number of respondents\n",
    "df_C2010.shape"
   ]
  },
  {
   "attachments": {},
   "cell_type": "markdown",
   "metadata": {},
   "source": [
    "#### Merging data"
   ]
  },
  {
   "cell_type": "code",
   "execution_count": 68,
   "metadata": {},
   "outputs": [],
   "source": [
    "df20 = pd.concat([df_C2010, df_C2012, df_C2014, df_C2016, df_C2018, df_C2020[['cardiovascular',\"osteoporosis\", \"alzheimer\", \"year\", \"HHID\"]]])\n",
    "#df20.to_csv(\"2010-2020HRS.csv\")"
   ]
  },
  {
   "cell_type": "code",
   "execution_count": 69,
   "metadata": {},
   "outputs": [
    {
     "data": {
      "text/html": [
       "<div>\n",
       "<style scoped>\n",
       "    .dataframe tbody tr th:only-of-type {\n",
       "        vertical-align: middle;\n",
       "    }\n",
       "\n",
       "    .dataframe tbody tr th {\n",
       "        vertical-align: top;\n",
       "    }\n",
       "\n",
       "    .dataframe thead th {\n",
       "        text-align: right;\n",
       "    }\n",
       "</style>\n",
       "<table border=\"1\" class=\"dataframe\">\n",
       "  <thead>\n",
       "    <tr style=\"text-align: right;\">\n",
       "      <th></th>\n",
       "      <th>cardiovascular</th>\n",
       "      <th>alzheimer</th>\n",
       "      <th>osteoporosis</th>\n",
       "      <th>year</th>\n",
       "      <th>HHID</th>\n",
       "    </tr>\n",
       "  </thead>\n",
       "  <tbody>\n",
       "    <tr>\n",
       "      <th>0</th>\n",
       "      <td>1.0</td>\n",
       "      <td>1.0</td>\n",
       "      <td></td>\n",
       "      <td>2010</td>\n",
       "      <td>NaN</td>\n",
       "    </tr>\n",
       "    <tr>\n",
       "      <th>1</th>\n",
       "      <td>5.0</td>\n",
       "      <td>5.0</td>\n",
       "      <td></td>\n",
       "      <td>2010</td>\n",
       "      <td>NaN</td>\n",
       "    </tr>\n",
       "    <tr>\n",
       "      <th>2</th>\n",
       "      <td>5.0</td>\n",
       "      <td>5.0</td>\n",
       "      <td></td>\n",
       "      <td>2010</td>\n",
       "      <td>NaN</td>\n",
       "    </tr>\n",
       "    <tr>\n",
       "      <th>3</th>\n",
       "      <td>1.0</td>\n",
       "      <td>5.0</td>\n",
       "      <td></td>\n",
       "      <td>2010</td>\n",
       "      <td>NaN</td>\n",
       "    </tr>\n",
       "    <tr>\n",
       "      <th>4</th>\n",
       "      <td>5.0</td>\n",
       "      <td>5.0</td>\n",
       "      <td></td>\n",
       "      <td>2010</td>\n",
       "      <td>NaN</td>\n",
       "    </tr>\n",
       "    <tr>\n",
       "      <th>...</th>\n",
       "      <td>...</td>\n",
       "      <td>...</td>\n",
       "      <td>...</td>\n",
       "      <td>...</td>\n",
       "      <td>...</td>\n",
       "    </tr>\n",
       "    <tr>\n",
       "      <th>15718</th>\n",
       "      <td>5.0</td>\n",
       "      <td>5.0</td>\n",
       "      <td>5.0</td>\n",
       "      <td>2020</td>\n",
       "      <td>b'923525'</td>\n",
       "    </tr>\n",
       "    <tr>\n",
       "      <th>15719</th>\n",
       "      <td>5.0</td>\n",
       "      <td>5.0</td>\n",
       "      <td>5.0</td>\n",
       "      <td>2020</td>\n",
       "      <td>b'923525'</td>\n",
       "    </tr>\n",
       "    <tr>\n",
       "      <th>15720</th>\n",
       "      <td>5.0</td>\n",
       "      <td>5.0</td>\n",
       "      <td>NaN</td>\n",
       "      <td>2020</td>\n",
       "      <td>b'952836'</td>\n",
       "    </tr>\n",
       "    <tr>\n",
       "      <th>15721</th>\n",
       "      <td>1.0</td>\n",
       "      <td>5.0</td>\n",
       "      <td>5.0</td>\n",
       "      <td>2020</td>\n",
       "      <td>b'958361'</td>\n",
       "    </tr>\n",
       "    <tr>\n",
       "      <th>15722</th>\n",
       "      <td>5.0</td>\n",
       "      <td>5.0</td>\n",
       "      <td>5.0</td>\n",
       "      <td>2020</td>\n",
       "      <td>b'959738'</td>\n",
       "    </tr>\n",
       "  </tbody>\n",
       "</table>\n",
       "<p>115116 rows × 5 columns</p>\n",
       "</div>"
      ],
      "text/plain": [
       "       cardiovascular  alzheimer osteoporosis  year       HHID\n",
       "0                 1.0        1.0               2010        NaN\n",
       "1                 5.0        5.0               2010        NaN\n",
       "2                 5.0        5.0               2010        NaN\n",
       "3                 1.0        5.0               2010        NaN\n",
       "4                 5.0        5.0               2010        NaN\n",
       "...               ...        ...          ...   ...        ...\n",
       "15718             5.0        5.0          5.0  2020  b'923525'\n",
       "15719             5.0        5.0          5.0  2020  b'923525'\n",
       "15720             5.0        5.0          NaN  2020  b'952836'\n",
       "15721             1.0        5.0          5.0  2020  b'958361'\n",
       "15722             5.0        5.0          5.0  2020  b'959738'\n",
       "\n",
       "[115116 rows x 5 columns]"
      ]
     },
     "execution_count": 69,
     "metadata": {},
     "output_type": "execute_result"
    }
   ],
   "source": [
    "df20"
   ]
  },
  {
   "cell_type": "markdown",
   "metadata": {},
   "source": [
    "#### Start Recoding"
   ]
  },
  {
   "cell_type": "code",
   "execution_count": 70,
   "metadata": {},
   "outputs": [],
   "source": [
    "# copy the old dataset for recoding\n",
    "df20new = df20"
   ]
  },
  {
   "cell_type": "code",
   "execution_count": 71,
   "metadata": {},
   "outputs": [
    {
     "data": {
      "text/html": [
       "<div>\n",
       "<style scoped>\n",
       "    .dataframe tbody tr th:only-of-type {\n",
       "        vertical-align: middle;\n",
       "    }\n",
       "\n",
       "    .dataframe tbody tr th {\n",
       "        vertical-align: top;\n",
       "    }\n",
       "\n",
       "    .dataframe thead th {\n",
       "        text-align: right;\n",
       "    }\n",
       "</style>\n",
       "<table border=\"1\" class=\"dataframe\">\n",
       "  <thead>\n",
       "    <tr style=\"text-align: right;\">\n",
       "      <th></th>\n",
       "      <th>cardiovascular</th>\n",
       "      <th>alzheimer</th>\n",
       "      <th>osteoporosis</th>\n",
       "      <th>year</th>\n",
       "      <th>HHID</th>\n",
       "    </tr>\n",
       "  </thead>\n",
       "  <tbody>\n",
       "    <tr>\n",
       "      <th>0</th>\n",
       "      <td>1.0</td>\n",
       "      <td>1.0</td>\n",
       "      <td></td>\n",
       "      <td>2010</td>\n",
       "      <td>NaN</td>\n",
       "    </tr>\n",
       "    <tr>\n",
       "      <th>1</th>\n",
       "      <td>5.0</td>\n",
       "      <td>5.0</td>\n",
       "      <td></td>\n",
       "      <td>2010</td>\n",
       "      <td>NaN</td>\n",
       "    </tr>\n",
       "    <tr>\n",
       "      <th>2</th>\n",
       "      <td>5.0</td>\n",
       "      <td>5.0</td>\n",
       "      <td></td>\n",
       "      <td>2010</td>\n",
       "      <td>NaN</td>\n",
       "    </tr>\n",
       "    <tr>\n",
       "      <th>3</th>\n",
       "      <td>1.0</td>\n",
       "      <td>5.0</td>\n",
       "      <td></td>\n",
       "      <td>2010</td>\n",
       "      <td>NaN</td>\n",
       "    </tr>\n",
       "    <tr>\n",
       "      <th>4</th>\n",
       "      <td>5.0</td>\n",
       "      <td>5.0</td>\n",
       "      <td></td>\n",
       "      <td>2010</td>\n",
       "      <td>NaN</td>\n",
       "    </tr>\n",
       "    <tr>\n",
       "      <th>...</th>\n",
       "      <td>...</td>\n",
       "      <td>...</td>\n",
       "      <td>...</td>\n",
       "      <td>...</td>\n",
       "      <td>...</td>\n",
       "    </tr>\n",
       "    <tr>\n",
       "      <th>15718</th>\n",
       "      <td>5.0</td>\n",
       "      <td>5.0</td>\n",
       "      <td>5.0</td>\n",
       "      <td>2020</td>\n",
       "      <td>b'923525'</td>\n",
       "    </tr>\n",
       "    <tr>\n",
       "      <th>15719</th>\n",
       "      <td>5.0</td>\n",
       "      <td>5.0</td>\n",
       "      <td>5.0</td>\n",
       "      <td>2020</td>\n",
       "      <td>b'923525'</td>\n",
       "    </tr>\n",
       "    <tr>\n",
       "      <th>15720</th>\n",
       "      <td>5.0</td>\n",
       "      <td>5.0</td>\n",
       "      <td>NaN</td>\n",
       "      <td>2020</td>\n",
       "      <td>b'952836'</td>\n",
       "    </tr>\n",
       "    <tr>\n",
       "      <th>15721</th>\n",
       "      <td>1.0</td>\n",
       "      <td>5.0</td>\n",
       "      <td>5.0</td>\n",
       "      <td>2020</td>\n",
       "      <td>b'958361'</td>\n",
       "    </tr>\n",
       "    <tr>\n",
       "      <th>15722</th>\n",
       "      <td>5.0</td>\n",
       "      <td>5.0</td>\n",
       "      <td>5.0</td>\n",
       "      <td>2020</td>\n",
       "      <td>b'959738'</td>\n",
       "    </tr>\n",
       "  </tbody>\n",
       "</table>\n",
       "<p>115116 rows × 5 columns</p>\n",
       "</div>"
      ],
      "text/plain": [
       "       cardiovascular  alzheimer osteoporosis  year       HHID\n",
       "0                 1.0        1.0               2010        NaN\n",
       "1                 5.0        5.0               2010        NaN\n",
       "2                 5.0        5.0               2010        NaN\n",
       "3                 1.0        5.0               2010        NaN\n",
       "4                 5.0        5.0               2010        NaN\n",
       "...               ...        ...          ...   ...        ...\n",
       "15718             5.0        5.0          5.0  2020  b'923525'\n",
       "15719             5.0        5.0          5.0  2020  b'923525'\n",
       "15720             5.0        5.0          NaN  2020  b'952836'\n",
       "15721             1.0        5.0          5.0  2020  b'958361'\n",
       "15722             5.0        5.0          5.0  2020  b'959738'\n",
       "\n",
       "[115116 rows x 5 columns]"
      ]
     },
     "execution_count": 71,
     "metadata": {},
     "output_type": "execute_result"
    }
   ],
   "source": [
    "df20new"
   ]
  },
  {
   "cell_type": "code",
   "execution_count": 72,
   "metadata": {},
   "outputs": [
    {
     "data": {
      "text/plain": [
       " 5.0    86897\n",
       " 1.0    27155\n",
       " 4.0      743\n",
       " 6.0      179\n",
       " 8.0      110\n",
       " 9.0       13\n",
       " 3.0       10\n",
       "-8.0        7\n",
       "Name: cardiovascular, dtype: int64"
      ]
     },
     "execution_count": 72,
     "metadata": {},
     "output_type": "execute_result"
    }
   ],
   "source": [
    "df20new['cardiovascular'].value_counts()"
   ]
  },
  {
   "cell_type": "markdown",
   "metadata": {},
   "source": [
    "The codebook of 2020 doesn't include \"3\" as a code so we check which year are these cases from. We also double checked codebooks of each year to make sure the coding rules are the same."
   ]
  },
  {
   "cell_type": "code",
   "execution_count": 73,
   "metadata": {},
   "outputs": [
    {
     "data": {
      "text/plain": [
       "10646    2010\n",
       "11033    2010\n",
       "4817     2014\n",
       "7330     2014\n",
       "8875     2014\n",
       "9491     2014\n",
       "227      2016\n",
       "8064     2016\n",
       "8865     2016\n",
       "12771    2016\n",
       "Name: year, dtype: int64"
      ]
     },
     "execution_count": 73,
     "metadata": {},
     "output_type": "execute_result"
    }
   ],
   "source": [
    "df20new[df20new[\"cardiovascular\"]==3].year"
   ]
  },
  {
   "cell_type": "markdown",
   "metadata": {},
   "source": [
    "The original coding rules of Cardiovascular question are show as below:\n",
    "- -8.Web non-response\n",
    "- 1.YES\n",
    "- 3.DISPUTES PREVIOUS WAVE RECORD, BUT NOW HAS CONDITION (only appear in 2010, 2014, 2016)\n",
    "- 4.[NEVER HAD HEART PROBLEM]\n",
    "- 5.NO\n",
    "- 6.[HAD HEART PROBLEM BEFORE, BUT DO NOT HAVE IT NOW AND AM NOT TAKING MEDICATION FOR IT]\n",
    "- 8.DK (Don't Know); NA (Not Ascertained)\n",
    "- 9.RF (Refused)\n",
    "- Blank.  INAP (Inapplicable); Partial Interview\n",
    "\n",
    "In order for convenience of analysis, we recode non-response, DK, RF as blank, and recode [3.DISPUTES PREVIOUS WAVE RECORD, BUT NOW HAS CONDITION], [4.NEVER HAD HEART PROBLEM], [5. NO] ,and [6.HAD HEART PROBLEM BEFORE, BUT DO NOT HAVE IT NOW AND AM NOT TAKING MEDICATION FOR IT] as 0 to indicate no disease."
   ]
  },
  {
   "cell_type": "code",
   "execution_count": 74,
   "metadata": {},
   "outputs": [
    {
     "data": {
      "text/plain": [
       "0.0    87829\n",
       "1.0    27155\n",
       "         130\n",
       "Name: cardiovascular, dtype: int64"
      ]
     },
     "execution_count": 74,
     "metadata": {},
     "output_type": "execute_result"
    }
   ],
   "source": [
    "df20new = df20new.replace({'cardiovascular' : {3: 0, 4: 0, 5: 0, 6: 0, 7: 0, 8: \"\", 9: \"\", -8: \"\"}})\n",
    "df20new[\"cardiovascular\"].value_counts()"
   ]
  },
  {
   "cell_type": "code",
   "execution_count": 75,
   "metadata": {},
   "outputs": [
    {
     "data": {
      "text/html": [
       "<div>\n",
       "<style scoped>\n",
       "    .dataframe tbody tr th:only-of-type {\n",
       "        vertical-align: middle;\n",
       "    }\n",
       "\n",
       "    .dataframe tbody tr th {\n",
       "        vertical-align: top;\n",
       "    }\n",
       "\n",
       "    .dataframe thead th {\n",
       "        text-align: right;\n",
       "    }\n",
       "</style>\n",
       "<table border=\"1\" class=\"dataframe\">\n",
       "  <thead>\n",
       "    <tr style=\"text-align: right;\">\n",
       "      <th></th>\n",
       "      <th>cardiovascular</th>\n",
       "      <th>alzheimer</th>\n",
       "      <th>osteoporosis</th>\n",
       "      <th>year</th>\n",
       "      <th>HHID</th>\n",
       "    </tr>\n",
       "  </thead>\n",
       "  <tbody>\n",
       "    <tr>\n",
       "      <th>0</th>\n",
       "      <td>1.0</td>\n",
       "      <td>1.0</td>\n",
       "      <td></td>\n",
       "      <td>2010</td>\n",
       "      <td>NaN</td>\n",
       "    </tr>\n",
       "    <tr>\n",
       "      <th>1</th>\n",
       "      <td>0.0</td>\n",
       "      <td>5.0</td>\n",
       "      <td></td>\n",
       "      <td>2010</td>\n",
       "      <td>NaN</td>\n",
       "    </tr>\n",
       "    <tr>\n",
       "      <th>2</th>\n",
       "      <td>0.0</td>\n",
       "      <td>5.0</td>\n",
       "      <td></td>\n",
       "      <td>2010</td>\n",
       "      <td>NaN</td>\n",
       "    </tr>\n",
       "    <tr>\n",
       "      <th>3</th>\n",
       "      <td>1.0</td>\n",
       "      <td>5.0</td>\n",
       "      <td></td>\n",
       "      <td>2010</td>\n",
       "      <td>NaN</td>\n",
       "    </tr>\n",
       "    <tr>\n",
       "      <th>4</th>\n",
       "      <td>0.0</td>\n",
       "      <td>5.0</td>\n",
       "      <td></td>\n",
       "      <td>2010</td>\n",
       "      <td>NaN</td>\n",
       "    </tr>\n",
       "    <tr>\n",
       "      <th>...</th>\n",
       "      <td>...</td>\n",
       "      <td>...</td>\n",
       "      <td>...</td>\n",
       "      <td>...</td>\n",
       "      <td>...</td>\n",
       "    </tr>\n",
       "    <tr>\n",
       "      <th>15718</th>\n",
       "      <td>0.0</td>\n",
       "      <td>5.0</td>\n",
       "      <td>5.0</td>\n",
       "      <td>2020</td>\n",
       "      <td>b'923525'</td>\n",
       "    </tr>\n",
       "    <tr>\n",
       "      <th>15719</th>\n",
       "      <td>0.0</td>\n",
       "      <td>5.0</td>\n",
       "      <td>5.0</td>\n",
       "      <td>2020</td>\n",
       "      <td>b'923525'</td>\n",
       "    </tr>\n",
       "    <tr>\n",
       "      <th>15720</th>\n",
       "      <td>0.0</td>\n",
       "      <td>5.0</td>\n",
       "      <td>NaN</td>\n",
       "      <td>2020</td>\n",
       "      <td>b'952836'</td>\n",
       "    </tr>\n",
       "    <tr>\n",
       "      <th>15721</th>\n",
       "      <td>1.0</td>\n",
       "      <td>5.0</td>\n",
       "      <td>5.0</td>\n",
       "      <td>2020</td>\n",
       "      <td>b'958361'</td>\n",
       "    </tr>\n",
       "    <tr>\n",
       "      <th>15722</th>\n",
       "      <td>0.0</td>\n",
       "      <td>5.0</td>\n",
       "      <td>5.0</td>\n",
       "      <td>2020</td>\n",
       "      <td>b'959738'</td>\n",
       "    </tr>\n",
       "  </tbody>\n",
       "</table>\n",
       "<p>115116 rows × 5 columns</p>\n",
       "</div>"
      ],
      "text/plain": [
       "      cardiovascular  alzheimer osteoporosis  year       HHID\n",
       "0                1.0        1.0               2010        NaN\n",
       "1                0.0        5.0               2010        NaN\n",
       "2                0.0        5.0               2010        NaN\n",
       "3                1.0        5.0               2010        NaN\n",
       "4                0.0        5.0               2010        NaN\n",
       "...              ...        ...          ...   ...        ...\n",
       "15718            0.0        5.0          5.0  2020  b'923525'\n",
       "15719            0.0        5.0          5.0  2020  b'923525'\n",
       "15720            0.0        5.0          NaN  2020  b'952836'\n",
       "15721            1.0        5.0          5.0  2020  b'958361'\n",
       "15722            0.0        5.0          5.0  2020  b'959738'\n",
       "\n",
       "[115116 rows x 5 columns]"
      ]
     },
     "execution_count": 75,
     "metadata": {},
     "output_type": "execute_result"
    }
   ],
   "source": [
    "df20new"
   ]
  },
  {
   "cell_type": "markdown",
   "metadata": {},
   "source": [
    "##### Osteoporosis"
   ]
  },
  {
   "cell_type": "code",
   "execution_count": 76,
   "metadata": {},
   "outputs": [
    {
     "data": {
      "text/plain": [
       "5.0     78059\n",
       "        22034\n",
       "1.0      5529\n",
       "8.0       317\n",
       "9.0        12\n",
       "-8.0        8\n",
       "Name: osteoporosis, dtype: int64"
      ]
     },
     "execution_count": 76,
     "metadata": {},
     "output_type": "execute_result"
    }
   ],
   "source": [
    "df20new['osteoporosis'].value_counts()"
   ]
  },
  {
   "cell_type": "markdown",
   "metadata": {},
   "source": [
    "The original coding rules of Osteoporosis question are show as below:\n",
    "\n",
    "- -8.Web non-response\n",
    "- 1.YES\n",
    "- 5.NO\n",
    "- 8.DK (Don't Know); NA (Not Ascertained)\n",
    "- 9.RF (Refused)\n",
    "- Blank.  INAP (Inapplicable); Partial Interview\n",
    "\n",
    "In order for convenience of analysis, we recode non-response, DK, RF as blank, and recode [5. NO] as 0 to indicate no disease."
   ]
  },
  {
   "cell_type": "code",
   "execution_count": 77,
   "metadata": {},
   "outputs": [
    {
     "data": {
      "text/plain": [
       "0      78059\n",
       "       22371\n",
       "1.0     5529\n",
       "Name: osteoporosis, dtype: int64"
      ]
     },
     "execution_count": 77,
     "metadata": {},
     "output_type": "execute_result"
    }
   ],
   "source": [
    "df20new = df20new.replace({'osteoporosis' : {3: 0, 4: 0, 5: 0, 7: 0, 8: \"\", 9: \"\", -8: \"\"}})\n",
    "\n",
    "# check recoded results\n",
    "df20new['osteoporosis'].value_counts()"
   ]
  },
  {
   "cell_type": "markdown",
   "metadata": {},
   "source": [
    "##### Alzheimer"
   ]
  },
  {
   "cell_type": "code",
   "execution_count": 78,
   "metadata": {},
   "outputs": [
    {
     "data": {
      "text/plain": [
       " 5.0    112958\n",
       " 1.0      1812\n",
       " 7.0       139\n",
       " 8.0        87\n",
       " 4.0        84\n",
       "-8.0        17\n",
       " 9.0        14\n",
       " 3.0         3\n",
       "Name: alzheimer, dtype: int64"
      ]
     },
     "execution_count": 78,
     "metadata": {},
     "output_type": "execute_result"
    }
   ],
   "source": [
    "df20new['alzheimer'].value_counts()"
   ]
  },
  {
   "cell_type": "markdown",
   "metadata": {},
   "source": [
    "The original coding rules of Alzheimer question are show as below:\n",
    "\n",
    "- -8.Web non-response\n",
    "- 1.YES\n",
    "- 3.DISPUTES PREVIOUS WAVE RECORD, BUT NOW HAS CONDITION\n",
    "- 4.[NEVER HAD ALZHEIMER'S DISEASE]\n",
    "- 5.NO\n",
    "- 7.Not Alzheimer's disease; other cognitive impairment\n",
    "- 8.DK (Don't Know); NA (Not Ascertained)\n",
    "- 9.RF (Refused)\n",
    "- Blank.INAP (Inapplicable); Partial Interview\n",
    "\n",
    "In order for convenience of analysis, we recode non-response, DK, RF as blank, and recode [3.DISPUTES PREVIOUS WAVE RECORD, BUT NOW HAS CONDITION], [4. NEVER HAD ALZHEIMER'S DISEASE], [5. NO], [7.Not Alzheimer's disease; other cognitive impairment] as 0 to indicate no disease."
   ]
  },
  {
   "cell_type": "code",
   "execution_count": 79,
   "metadata": {},
   "outputs": [
    {
     "data": {
      "text/plain": [
       "0.0    113184\n",
       "1.0      1812\n",
       "          118\n",
       "Name: alzheimer, dtype: int64"
      ]
     },
     "execution_count": 79,
     "metadata": {},
     "output_type": "execute_result"
    }
   ],
   "source": [
    "df20new = df20new.replace({'alzheimer' : {3: 0, 4: 0, 5: 0, 7: 0, 8: \"\", 9: \"\", -8: \"\"}})\n",
    "# check recoded results\n",
    "df20new['alzheimer'].value_counts()"
   ]
  },
  {
   "cell_type": "markdown",
   "metadata": {},
   "source": [
    "Finished recoding."
   ]
  },
  {
   "cell_type": "code",
   "execution_count": 80,
   "metadata": {},
   "outputs": [
    {
     "data": {
      "text/html": [
       "<div>\n",
       "<style scoped>\n",
       "    .dataframe tbody tr th:only-of-type {\n",
       "        vertical-align: middle;\n",
       "    }\n",
       "\n",
       "    .dataframe tbody tr th {\n",
       "        vertical-align: top;\n",
       "    }\n",
       "\n",
       "    .dataframe thead th {\n",
       "        text-align: right;\n",
       "    }\n",
       "</style>\n",
       "<table border=\"1\" class=\"dataframe\">\n",
       "  <thead>\n",
       "    <tr style=\"text-align: right;\">\n",
       "      <th></th>\n",
       "      <th>cardiovascular</th>\n",
       "      <th>alzheimer</th>\n",
       "      <th>osteoporosis</th>\n",
       "      <th>year</th>\n",
       "      <th>HHID</th>\n",
       "    </tr>\n",
       "  </thead>\n",
       "  <tbody>\n",
       "    <tr>\n",
       "      <th>4224</th>\n",
       "      <td>0.0</td>\n",
       "      <td>0.0</td>\n",
       "      <td></td>\n",
       "      <td>2010</td>\n",
       "      <td>NaN</td>\n",
       "    </tr>\n",
       "    <tr>\n",
       "      <th>14958</th>\n",
       "      <td>0.0</td>\n",
       "      <td>0.0</td>\n",
       "      <td>0</td>\n",
       "      <td>2020</td>\n",
       "      <td>b'911405'</td>\n",
       "    </tr>\n",
       "    <tr>\n",
       "      <th>5402</th>\n",
       "      <td>1.0</td>\n",
       "      <td>0.0</td>\n",
       "      <td>0</td>\n",
       "      <td>2020</td>\n",
       "      <td>b'201780'</td>\n",
       "    </tr>\n",
       "    <tr>\n",
       "      <th>3572</th>\n",
       "      <td>0.0</td>\n",
       "      <td>0.0</td>\n",
       "      <td>0</td>\n",
       "      <td>2012</td>\n",
       "      <td>NaN</td>\n",
       "    </tr>\n",
       "    <tr>\n",
       "      <th>17522</th>\n",
       "      <td>0.0</td>\n",
       "      <td>0.0</td>\n",
       "      <td>0</td>\n",
       "      <td>2012</td>\n",
       "      <td>NaN</td>\n",
       "    </tr>\n",
       "    <tr>\n",
       "      <th>1639</th>\n",
       "      <td>0.0</td>\n",
       "      <td>0.0</td>\n",
       "      <td>0</td>\n",
       "      <td>2014</td>\n",
       "      <td>NaN</td>\n",
       "    </tr>\n",
       "    <tr>\n",
       "      <th>17225</th>\n",
       "      <td>0.0</td>\n",
       "      <td>0.0</td>\n",
       "      <td>0</td>\n",
       "      <td>2014</td>\n",
       "      <td>NaN</td>\n",
       "    </tr>\n",
       "    <tr>\n",
       "      <th>6036</th>\n",
       "      <td>0.0</td>\n",
       "      <td>0.0</td>\n",
       "      <td>0</td>\n",
       "      <td>2018</td>\n",
       "      <td>NaN</td>\n",
       "    </tr>\n",
       "    <tr>\n",
       "      <th>8961</th>\n",
       "      <td>0.0</td>\n",
       "      <td>0.0</td>\n",
       "      <td>0</td>\n",
       "      <td>2014</td>\n",
       "      <td>NaN</td>\n",
       "    </tr>\n",
       "    <tr>\n",
       "      <th>20043</th>\n",
       "      <td>0.0</td>\n",
       "      <td>0.0</td>\n",
       "      <td></td>\n",
       "      <td>2010</td>\n",
       "      <td>NaN</td>\n",
       "    </tr>\n",
       "  </tbody>\n",
       "</table>\n",
       "</div>"
      ],
      "text/plain": [
       "      cardiovascular alzheimer osteoporosis  year       HHID\n",
       "4224             0.0       0.0               2010        NaN\n",
       "14958            0.0       0.0            0  2020  b'911405'\n",
       "5402             1.0       0.0            0  2020  b'201780'\n",
       "3572             0.0       0.0            0  2012        NaN\n",
       "17522            0.0       0.0            0  2012        NaN\n",
       "1639             0.0       0.0            0  2014        NaN\n",
       "17225            0.0       0.0            0  2014        NaN\n",
       "6036             0.0       0.0            0  2018        NaN\n",
       "8961             0.0       0.0            0  2014        NaN\n",
       "20043            0.0       0.0               2010        NaN"
      ]
     },
     "execution_count": 80,
     "metadata": {},
     "output_type": "execute_result"
    }
   ],
   "source": [
    "# have a glance at the final dataset\n",
    "df20new.sample(10)"
   ]
  },
  {
   "cell_type": "code",
   "execution_count": 81,
   "metadata": {},
   "outputs": [
    {
     "data": {
      "text/plain": [
       "cardiovascular    object\n",
       "alzheimer         object\n",
       "osteoporosis      object\n",
       "year               int64\n",
       "HHID              object\n",
       "dtype: object"
      ]
     },
     "execution_count": 81,
     "metadata": {},
     "output_type": "execute_result"
    }
   ],
   "source": [
    "# take a look at the types\n",
    "df20new.dtypes"
   ]
  },
  {
   "cell_type": "code",
   "execution_count": 82,
   "metadata": {},
   "outputs": [],
   "source": [
    "# convert data type to numeric\n",
    "df20new[\"cardiovascular\"] = pd.to_numeric(df20new[\"cardiovascular\"])\n",
    "df20new[\"osteoporosis\"] = pd.to_numeric(df20new[\"osteoporosis\"])\n",
    "df20new[\"alzheimer\"] = pd.to_numeric(df20new[\"alzheimer\"])"
   ]
  },
  {
   "cell_type": "code",
   "execution_count": 83,
   "metadata": {},
   "outputs": [
    {
     "data": {
      "text/plain": [
       "cardiovascular    float64\n",
       "alzheimer         float64\n",
       "osteoporosis      float64\n",
       "year                int64\n",
       "HHID               object\n",
       "dtype: object"
      ]
     },
     "execution_count": 83,
     "metadata": {},
     "output_type": "execute_result"
    }
   ],
   "source": [
    "# check the types\n",
    "df20new.dtypes"
   ]
  },
  {
   "attachments": {},
   "cell_type": "markdown",
   "metadata": {},
   "source": [
    "#### Data Analysis\n",
    "1. Correlations"
   ]
  },
  {
   "cell_type": "code",
   "execution_count": 84,
   "metadata": {},
   "outputs": [],
   "source": [
    "# drop variables like ID, not interested in their correlations\n",
    "data = data.loc[:,\"cardiovascular\":]"
   ]
  },
  {
   "cell_type": "code",
   "execution_count": 85,
   "metadata": {},
   "outputs": [
    {
     "data": {
      "text/html": [
       "<div>\n",
       "<style scoped>\n",
       "    .dataframe tbody tr th:only-of-type {\n",
       "        vertical-align: middle;\n",
       "    }\n",
       "\n",
       "    .dataframe tbody tr th {\n",
       "        vertical-align: top;\n",
       "    }\n",
       "\n",
       "    .dataframe thead th {\n",
       "        text-align: right;\n",
       "    }\n",
       "</style>\n",
       "<table border=\"1\" class=\"dataframe\">\n",
       "  <thead>\n",
       "    <tr style=\"text-align: right;\">\n",
       "      <th></th>\n",
       "      <th>cardiovascular</th>\n",
       "      <th>sleep</th>\n",
       "      <th>vigorous_exercise</th>\n",
       "      <th>moderate_exercise</th>\n",
       "      <th>mild_exercise</th>\n",
       "    </tr>\n",
       "  </thead>\n",
       "  <tbody>\n",
       "    <tr>\n",
       "      <th>cardiovascular</th>\n",
       "      <td>1.000000</td>\n",
       "      <td>-0.055536</td>\n",
       "      <td>0.082649</td>\n",
       "      <td>0.053377</td>\n",
       "      <td>0.027129</td>\n",
       "    </tr>\n",
       "    <tr>\n",
       "      <th>sleep</th>\n",
       "      <td>-0.055536</td>\n",
       "      <td>1.000000</td>\n",
       "      <td>-0.037762</td>\n",
       "      <td>0.005998</td>\n",
       "      <td>0.017789</td>\n",
       "    </tr>\n",
       "    <tr>\n",
       "      <th>vigorous_exercise</th>\n",
       "      <td>0.082649</td>\n",
       "      <td>-0.037762</td>\n",
       "      <td>1.000000</td>\n",
       "      <td>0.276668</td>\n",
       "      <td>0.139115</td>\n",
       "    </tr>\n",
       "    <tr>\n",
       "      <th>moderate_exercise</th>\n",
       "      <td>0.053377</td>\n",
       "      <td>0.005998</td>\n",
       "      <td>0.276668</td>\n",
       "      <td>1.000000</td>\n",
       "      <td>0.342956</td>\n",
       "    </tr>\n",
       "    <tr>\n",
       "      <th>mild_exercise</th>\n",
       "      <td>0.027129</td>\n",
       "      <td>0.017789</td>\n",
       "      <td>0.139115</td>\n",
       "      <td>0.342956</td>\n",
       "      <td>1.000000</td>\n",
       "    </tr>\n",
       "  </tbody>\n",
       "</table>\n",
       "</div>"
      ],
      "text/plain": [
       "                   cardiovascular     sleep  vigorous_exercise  \\\n",
       "cardiovascular           1.000000 -0.055536           0.082649   \n",
       "sleep                   -0.055536  1.000000          -0.037762   \n",
       "vigorous_exercise        0.082649 -0.037762           1.000000   \n",
       "moderate_exercise        0.053377  0.005998           0.276668   \n",
       "mild_exercise            0.027129  0.017789           0.139115   \n",
       "\n",
       "                   moderate_exercise  mild_exercise  \n",
       "cardiovascular              0.053377       0.027129  \n",
       "sleep                       0.005998       0.017789  \n",
       "vigorous_exercise           0.276668       0.139115  \n",
       "moderate_exercise           1.000000       0.342956  \n",
       "mild_exercise               0.342956       1.000000  "
      ]
     },
     "execution_count": 85,
     "metadata": {},
     "output_type": "execute_result"
    }
   ],
   "source": [
    "corr_matrixc=data.loc[:,[\"cardiovascular\",\"sleep\",\"vigorous_exercise\",\"moderate_exercise\",\"mild_exercise\"]].corr()\n",
    "corr_matrixc"
   ]
  },
  {
   "cell_type": "code",
   "execution_count": 86,
   "metadata": {},
   "outputs": [
    {
     "data": {
      "text/plain": [
       "<AxesSubplot:>"
      ]
     },
     "execution_count": 86,
     "metadata": {},
     "output_type": "execute_result"
    },
    {
     "data": {
      "image/png": "[encoded data removed]",
      "text/plain": [
       "<Figure size 432x288 with 2 Axes>"
      ]
     },
     "metadata": {
      "needs_background": "light"
     },
     "output_type": "display_data"
    }
   ],
   "source": [
    "# plot it\n",
    "sns.heatmap(corr_matrixc,cmap=\"YlGnBu\")"
   ]
  },
  {
   "cell_type": "code",
   "execution_count": 87,
   "metadata": {},
   "outputs": [
    {
     "data": {
      "text/plain": [
       "<AxesSubplot:>"
      ]
     },
     "execution_count": 87,
     "metadata": {},
     "output_type": "execute_result"
    },
    {
     "data": {
      "image/png": "[encoded data removed]",
      "text/plain": [
       "<Figure size 432x288 with 2 Axes>"
      ]
     },
     "metadata": {
      "needs_background": "light"
     },
     "output_type": "display_data"
    }
   ],
   "source": [
    "corr_matrixo=data.loc[:,[\"osteoporosis\",\"sleep\",\"vigorous_exercise\",\"moderate_exercise\",\"mild_exercise\"]].corr()\n",
    "# plot it\n",
    "sns.heatmap(corr_matrixo, cmap=\"Blues\")"
   ]
  },
  {
   "cell_type": "code",
   "execution_count": 88,
   "metadata": {},
   "outputs": [
    {
     "data": {
      "text/plain": [
       "<AxesSubplot:>"
      ]
     },
     "execution_count": 88,
     "metadata": {},
     "output_type": "execute_result"
    },
    {
     "data": {
      "image/png": "[encoded data removed]",
      "text/plain": [
       "<Figure size 432x288 with 2 Axes>"
      ]
     },
     "metadata": {
      "needs_background": "light"
     },
     "output_type": "display_data"
    }
   ],
   "source": [
    "corr_matrixa=data.loc[:,[\"alzheimer\",\"sleep\",\"vigorous_exercise\",\"moderate_exercise\",\"mild_exercise\"]].corr()\n",
    "# plot it\n",
    "sns.heatmap(corr_matrixa, cmap=\"BuPu\")"
   ]
  },
  {
   "attachments": {},
   "cell_type": "markdown",
   "metadata": {},
   "source": [
    "2. Calculating The Probability of Having Diseases for Each Year"
   ]
  },
  {
   "cell_type": "code",
   "execution_count": 89,
   "metadata": {},
   "outputs": [],
   "source": [
    "# calculate cases of having diseas and all cases count\n",
    "listofHavingC = df20new.groupby(['year']).cardiovascular.sum()\n",
    "listofHavingO = df20new.groupby(['year']).osteoporosis.sum()\n",
    "listofHavingA = df20new.groupby(['year']).alzheimer.sum()\n"
   ]
  },
  {
   "cell_type": "code",
   "execution_count": 90,
   "metadata": {},
   "outputs": [
    {
     "data": {
      "text/plain": [
       "year\n",
       "2010    5081.0\n",
       "2012    4960.0\n",
       "2014    4693.0\n",
       "2016    4693.0\n",
       "2018    4038.0\n",
       "2020    3690.0\n",
       "Name: cardiovascular, dtype: float64"
      ]
     },
     "execution_count": 90,
     "metadata": {},
     "output_type": "execute_result"
    }
   ],
   "source": [
    "# check the result\n",
    "listofHavingC"
   ]
  },
  {
   "cell_type": "code",
   "execution_count": 91,
   "metadata": {},
   "outputs": [
    {
     "data": {
      "text/plain": [
       "year\n",
       "2010       0.0\n",
       "2012    2701.0\n",
       "2014     774.0\n",
       "2016     831.0\n",
       "2018     492.0\n",
       "2020     731.0\n",
       "Name: osteoporosis, dtype: float64"
      ]
     },
     "execution_count": 91,
     "metadata": {},
     "output_type": "execute_result"
    }
   ],
   "source": [
    "# check the result\n",
    "listofHavingO"
   ]
  },
  {
   "cell_type": "code",
   "execution_count": 92,
   "metadata": {},
   "outputs": [
    {
     "data": {
      "text/plain": [
       "year\n",
       "2010    343.0\n",
       "2012    355.0\n",
       "2014    337.0\n",
       "2016    311.0\n",
       "2018    251.0\n",
       "2020    215.0\n",
       "Name: alzheimer, dtype: float64"
      ]
     },
     "execution_count": 92,
     "metadata": {},
     "output_type": "execute_result"
    }
   ],
   "source": [
    "# check the result\n",
    "listofHavingA"
   ]
  },
  {
   "cell_type": "code",
   "execution_count": 93,
   "metadata": {},
   "outputs": [],
   "source": [
    "# clean the results and convert to list\n",
    "listofHavingC = listofHavingC.tolist()\n",
    "listofHavingO = listofHavingO.tolist()\n",
    "listofHavingA = listofHavingA.tolist()"
   ]
  },
  {
   "cell_type": "code",
   "execution_count": 94,
   "metadata": {},
   "outputs": [
    {
     "data": {
      "text/plain": [
       "[22013, 20535, 18723, 20887, 17131, 15695]"
      ]
     },
     "execution_count": 94,
     "metadata": {},
     "output_type": "execute_result"
    }
   ],
   "source": [
    "# create a list of count of all cases per year\n",
    "listofAll = df20new.groupby(['year']).cardiovascular.count().tolist()\n",
    "# create a list of year\n",
    "listofYear = [2010, 2012, 2014, 2016, 2018, 2020]\n",
    "listofAll"
   ]
  },
  {
   "cell_type": "code",
   "execution_count": 95,
   "metadata": {},
   "outputs": [
    {
     "data": {
      "text/plain": [
       "[2010, 2012, 2014, 2016, 2018, 2020]"
      ]
     },
     "execution_count": 95,
     "metadata": {},
     "output_type": "execute_result"
    }
   ],
   "source": [
    "listofYear"
   ]
  },
  {
   "cell_type": "code",
   "execution_count": 96,
   "metadata": {},
   "outputs": [
    {
     "data": {
      "text/html": [
       "<div>\n",
       "<style scoped>\n",
       "    .dataframe tbody tr th:only-of-type {\n",
       "        vertical-align: middle;\n",
       "    }\n",
       "\n",
       "    .dataframe tbody tr th {\n",
       "        vertical-align: top;\n",
       "    }\n",
       "\n",
       "    .dataframe thead th {\n",
       "        text-align: right;\n",
       "    }\n",
       "</style>\n",
       "<table border=\"1\" class=\"dataframe\">\n",
       "  <thead>\n",
       "    <tr style=\"text-align: right;\">\n",
       "      <th></th>\n",
       "      <th>cardiovascular</th>\n",
       "      <th>osteoporosis</th>\n",
       "      <th>alzheimer</th>\n",
       "      <th>year</th>\n",
       "    </tr>\n",
       "  </thead>\n",
       "  <tbody>\n",
       "    <tr>\n",
       "      <th>1</th>\n",
       "      <td></td>\n",
       "      <td></td>\n",
       "      <td></td>\n",
       "      <td></td>\n",
       "    </tr>\n",
       "    <tr>\n",
       "      <th>2</th>\n",
       "      <td></td>\n",
       "      <td></td>\n",
       "      <td></td>\n",
       "      <td></td>\n",
       "    </tr>\n",
       "    <tr>\n",
       "      <th>3</th>\n",
       "      <td></td>\n",
       "      <td></td>\n",
       "      <td></td>\n",
       "      <td></td>\n",
       "    </tr>\n",
       "    <tr>\n",
       "      <th>4</th>\n",
       "      <td></td>\n",
       "      <td></td>\n",
       "      <td></td>\n",
       "      <td></td>\n",
       "    </tr>\n",
       "    <tr>\n",
       "      <th>5</th>\n",
       "      <td></td>\n",
       "      <td></td>\n",
       "      <td></td>\n",
       "      <td></td>\n",
       "    </tr>\n",
       "    <tr>\n",
       "      <th>6</th>\n",
       "      <td></td>\n",
       "      <td></td>\n",
       "      <td></td>\n",
       "      <td></td>\n",
       "    </tr>\n",
       "  </tbody>\n",
       "</table>\n",
       "</div>"
      ],
      "text/plain": [
       "  cardiovascular osteoporosis alzheimer year\n",
       "1                                           \n",
       "2                                           \n",
       "3                                           \n",
       "4                                           \n",
       "5                                           \n",
       "6                                           "
      ]
     },
     "execution_count": 96,
     "metadata": {},
     "output_type": "execute_result"
    }
   ],
   "source": [
    "# create a new dataframe to store the results of calculation\n",
    "dften_year = pd.DataFrame({'cardiovascular':\"\", \"osteoporosis\":\"\", \"alzheimer\":\"\", \"year\":\"\"}, index=[1,2,3,4,5,6])\n",
    "dften_year"
   ]
  },
  {
   "cell_type": "code",
   "execution_count": 97,
   "metadata": {},
   "outputs": [],
   "source": [
    "# loop through the lists to calculate the probability of having disease and fill in the table\n",
    "for i in range(len(listofAll)):\n",
    "    dften_year.iloc[i][0]=listofHavingC[i]/listofAll[i]\n",
    "    dften_year.iloc[i][1]=listofHavingO[i]/listofAll[i]\n",
    "    dften_year.iloc[i][2]=listofHavingA[i]/listofAll[i]\n",
    "    dften_year.iloc[i][3]=listofYear[i]\n"
   ]
  },
  {
   "cell_type": "code",
   "execution_count": 98,
   "metadata": {},
   "outputs": [
    {
     "data": {
      "text/html": [
       "<div>\n",
       "<style scoped>\n",
       "    .dataframe tbody tr th:only-of-type {\n",
       "        vertical-align: middle;\n",
       "    }\n",
       "\n",
       "    .dataframe tbody tr th {\n",
       "        vertical-align: top;\n",
       "    }\n",
       "\n",
       "    .dataframe thead th {\n",
       "        text-align: right;\n",
       "    }\n",
       "</style>\n",
       "<table border=\"1\" class=\"dataframe\">\n",
       "  <thead>\n",
       "    <tr style=\"text-align: right;\">\n",
       "      <th></th>\n",
       "      <th>cardiovascular</th>\n",
       "      <th>osteoporosis</th>\n",
       "      <th>alzheimer</th>\n",
       "      <th>year</th>\n",
       "    </tr>\n",
       "  </thead>\n",
       "  <tbody>\n",
       "    <tr>\n",
       "      <th>1</th>\n",
       "      <td>0.230818</td>\n",
       "      <td>0.0</td>\n",
       "      <td>0.015582</td>\n",
       "      <td>2010</td>\n",
       "    </tr>\n",
       "    <tr>\n",
       "      <th>2</th>\n",
       "      <td>0.241539</td>\n",
       "      <td>0.131532</td>\n",
       "      <td>0.017288</td>\n",
       "      <td>2012</td>\n",
       "    </tr>\n",
       "    <tr>\n",
       "      <th>3</th>\n",
       "      <td>0.250654</td>\n",
       "      <td>0.04134</td>\n",
       "      <td>0.017999</td>\n",
       "      <td>2014</td>\n",
       "    </tr>\n",
       "    <tr>\n",
       "      <th>4</th>\n",
       "      <td>0.224685</td>\n",
       "      <td>0.039786</td>\n",
       "      <td>0.01489</td>\n",
       "      <td>2016</td>\n",
       "    </tr>\n",
       "    <tr>\n",
       "      <th>5</th>\n",
       "      <td>0.235713</td>\n",
       "      <td>0.02872</td>\n",
       "      <td>0.014652</td>\n",
       "      <td>2018</td>\n",
       "    </tr>\n",
       "    <tr>\n",
       "      <th>6</th>\n",
       "      <td>0.235107</td>\n",
       "      <td>0.046575</td>\n",
       "      <td>0.013699</td>\n",
       "      <td>2020</td>\n",
       "    </tr>\n",
       "  </tbody>\n",
       "</table>\n",
       "</div>"
      ],
      "text/plain": [
       "  cardiovascular osteoporosis alzheimer  year\n",
       "1       0.230818          0.0  0.015582  2010\n",
       "2       0.241539     0.131532  0.017288  2012\n",
       "3       0.250654      0.04134  0.017999  2014\n",
       "4       0.224685     0.039786   0.01489  2016\n",
       "5       0.235713      0.02872  0.014652  2018\n",
       "6       0.235107     0.046575  0.013699  2020"
      ]
     },
     "execution_count": 98,
     "metadata": {},
     "output_type": "execute_result"
    }
   ],
   "source": [
    "# check the final dataframe\n",
    "dften_year"
   ]
  },
  {
   "cell_type": "code",
   "execution_count": 99,
   "metadata": {},
   "outputs": [],
   "source": [
    "# save the final dataset to .csv file\n",
    "dften_year.to_csv(\"2010-2020HRScleaned.csv\")"
   ]
  },
  {
   "attachments": {},
   "cell_type": "markdown",
   "metadata": {},
   "source": [
    "3. Then we use Tableau to plot the line charts of trends of having these three diseases."
   ]
  }
 ],
 "metadata": {
  "kernelspec": {
   "display_name": "base",
   "language": "python",
   "name": "python3"
  },
  "language_info": {
   "codemirror_mode": {
    "name": "ipython",
    "version": 3
   },
   "file_extension": ".py",
   "mimetype": "text/x-python",
   "name": "python",
   "nbconvert_exporter": "python",
   "pygments_lexer": "ipython3",
   "version": "3.9.12"
  },
  "orig_nbformat": 4,
  "vscode": {
   "interpreter": {
    "hash": "73afd8c7ff04412d5f5493ff16692f8110741b4f2a8e88efe48840db2185439d"
   }
  }
 },
 "nbformat": 4,
 "nbformat_minor": 2
}
